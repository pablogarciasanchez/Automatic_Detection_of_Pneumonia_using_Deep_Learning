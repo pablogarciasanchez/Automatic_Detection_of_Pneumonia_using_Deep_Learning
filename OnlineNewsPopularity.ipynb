{
  "nbformat": 4,
  "nbformat_minor": 0,
  "metadata": {
    "colab": {
      "provenance": [],
      "include_colab_link": true
    },
    "kernelspec": {
      "name": "python3",
      "display_name": "Python 3"
    },
    "language_info": {
      "name": "python"
    }
  },
  "cells": [
    {
      "cell_type": "markdown",
      "metadata": {
        "id": "view-in-github",
        "colab_type": "text"
      },
      "source": [
        "<a href=\"https://colab.research.google.com/github/pablogarciasanchez/Automatic_Detection_of_Pneumonia_using_Deep_Learning/blob/main/OnlineNewsPopularity.ipynb\" target=\"_parent\"><img src=\"https://colab.research.google.com/assets/colab-badge.svg\" alt=\"Open In Colab\"/></a>"
      ]
    },
    {
      "cell_type": "markdown",
      "source": [
        "# Aprendizaje Automático - Proyecto Final - Predicción de Popularidad de una Noticia Online"
      ],
      "metadata": {
        "id": "jwIrcWOXMa5Y"
      }
    },
    {
      "cell_type": "markdown",
      "source": [
        "# Autores"
      ],
      "metadata": {
        "id": "nT01UpKRsp6x"
      }
    },
    {
      "cell_type": "markdown",
      "source": [
        "- Pablo García Sánchez\n",
        "- José Antonio López Palenzuela"
      ],
      "metadata": {
        "id": "TClF7aOEBPVI"
      }
    },
    {
      "cell_type": "markdown",
      "source": [
        "# Nota"
      ],
      "metadata": {
        "id": "tIZa1wkKZ3VR"
      }
    },
    {
      "cell_type": "markdown",
      "source": [
        "Se recomienda leer la memoria. Aunque el contenido es el mismo, en este cuaderno los comentarios se intercalan con celdas de código que pueden dificultar la compresión del mismo."
      ],
      "metadata": {
        "id": "RgvkDTACZ47W"
      }
    },
    {
      "cell_type": "markdown",
      "source": [
        "# 1.Introducción"
      ],
      "metadata": {
        "id": "miZ_zXFensUg"
      }
    },
    {
      "cell_type": "markdown",
      "source": [
        "En un mundo donde las redes sociales y los medios digitales ya son una de las principales fuentes de información de cualquier ciudadano, predecir el alcance o popularidad de una noticia online se ha convertido en una necesidad primaria para cualquiera cuyo sustento esté a merced de la opinión pública. Desde articulistas a políticos, pasando por publicistas y activistas.\n",
        "\n",
        "La popularidad de una publicación online puede cuantificarse a través del número de veces que se interacciona con ella: “retweets”, comentarios, veces compartida … Luego predecir la popularidad de un artículo podría entenderse como predecir el número de interacciones que tendrá, un problema de regresión.\n",
        "\n",
        "Sin embargo, el enfoque de este proyecto fue distinto, se resolvió como un problema de clasificación binaria (popular/impopular). Para ello, se estableció de antemano un umbral que divide el espacio de artículos en dos conjuntos: populares, artículos cuyo número de interacciones es menor que el umbral; e impopulares, artículos cuyo número de interacciones se encuentra por encima del umbral.\n",
        "\n",
        "En este estudio se implementaron y compararon las prestaciones de los siguientes modelos de clasificación: regresión logística (RL y Random Forest (RF). El objetivo es determinar qué técnica permite determinar mejor si un artículo cualquiera será un éxito antes de publicarlo.\n",
        "\n",
        "Mencionar que este proyecto está bastante inspirado en el artículo original en el que se planteó este mismo problema [1]. Especialmente la forma en la que se transforma el problema de una aparente regresión a una clasificación binaria. En [1] se combina una primera parte de implementación  de modelos predictivos (Random Forest, Adaptive, SVM-RBF, KNN y Naïve Bayes), con una segunda parte de refinamiento o optimización del mejor modelo encontrado (RF). Por contra, en este proyecto se implementaron un clasificador lineal (Regresión Logística) y 1 clasificadores no-lineales (Random Forest) utilizando un estrategia de entrenamiento y evaluación distintas al artículo original (no se utiliza el esquema de ventana deslizante) a fin de encontrar el mejor modelo para la tarea de clasificación en cuestión.\n"
      ],
      "metadata": {
        "id": "E4JFcgBRe49y"
      }
    },
    {
      "cell_type": "markdown",
      "source": [
        "# 2.Conjunto de Datos"
      ],
      "metadata": {
        "id": "d9z4zoCKSULc"
      }
    },
    {
      "cell_type": "markdown",
      "source": [
        "### 2.1 Descripción"
      ],
      "metadata": {
        "id": "WgY-TOy5-eCY"
      }
    },
    {
      "cell_type": "markdown",
      "source": [
        "El conjunto de datos disponible está compuesto por información relativa a los 39.797 artículos que el medio Marshable publicó en su web [2] entre el 7 de Enero de 2013 y el 7 de Enero de 2015 (un periodo de 2 años).\n"
      ],
      "metadata": {
        "id": "de24ZdNnr0aS"
      }
    },
    {
      "cell_type": "markdown",
      "source": [
        "Los atributos asociados a cada artículo pueden clasificarse en las siguientes categorías:"
      ],
      "metadata": {
        "id": "JAVnybyPs2e7"
      }
    },
    {
      "cell_type": "markdown",
      "source": [
        "- Metadatos: No se utilizan para labores predictivas."
      ],
      "metadata": {
        "id": "6pQIhH5fs4In"
      }
    },
    {
      "cell_type": "markdown",
      "source": [
        "n | Nombre | Descripción | Tipo |\n",
        "-|-|-|-|\n",
        "1 | url | Dirección URL del artículo | String\n",
        "2 | tiemdelta | Tiempo desde la publicación del artículo a la adquisición de datos (7 de Enero de 2015) | Numérico"
      ],
      "metadata": {
        "id": "kLZBeBOQs699"
      }
    },
    {
      "cell_type": "markdown",
      "source": [
        "- Palabras: Relacionados con el número y frecuencia de distintos tipos de palabras."
      ],
      "metadata": {
        "id": "AD7BZ8aHtP7S"
      }
    },
    {
      "cell_type": "markdown",
      "source": [
        "n | Nombre | Descripción | Tipo |\n",
        "-|-|-|-|\n",
        "3 | n_tokens_title | Número de palabras del título | Numérico\n",
        "4 | n_tokens_content | Número de palabras del artículo | Numérico\n",
        "5 | average_token_length | Longitud media por palabra | Numérico\n",
        "6 | n_non_stop_words | Ratio de palabras no-compuestas | Numérico\n",
        "7 | n_unique_tokens | Ratio de palabras únicas | Numérico\n",
        "8 | n_non_stop_unique_tokens | Ratio de palabras únicas no-compuestas | Numérico"
      ],
      "metadata": {
        "id": "B56F912xtQ2_"
      }
    },
    {
      "cell_type": "markdown",
      "source": [
        "- Enlaces externos: Relacionados con los enlaces a otras páginas web y artículos de Marshable."
      ],
      "metadata": {
        "id": "2geLfzHytWNM"
      }
    },
    {
      "cell_type": "markdown",
      "source": [
        "n | Nombre | Descripción | Tipo |\n",
        "-|-|-|-|\n",
        "9 | num_hrefs | Número total de enlaces | Numérico\n",
        "10 | num_self_hrefs | Número de enlaces a otros artículos de Marshable | Numérico\n",
        "11 | self_reference_min_shares | Número de veces compartido (mínimo) de los artículos Marshable enlazados | Numérico\n",
        "12 | self_reference_avg_shares | Número de veces compartido (máximo) de los artículos Marshable enlazados  | Numérico\n",
        "13 | self_reference_max_shares | Número de veces compartido (medio) de los artículos Marshable enlazados  | Numérico"
      ],
      "metadata": {
        "id": "M1X4lfwitXB-"
      }
    },
    {
      "cell_type": "markdown",
      "source": [
        "- Contenido multimedia: Número de fotos y vídeos."
      ],
      "metadata": {
        "id": "PGG_0ph_taiH"
      }
    },
    {
      "cell_type": "markdown",
      "source": [
        "n | Nombre | Descripción | Tipo |\n",
        "-|-|-|-|\n",
        "14 | num_imgs | Número de imágenes | Numérico\n",
        "15 | num_videos | Número de vídeos | Numérico"
      ],
      "metadata": {
        "id": "7TM23tUttdF_"
      }
    },
    {
      "cell_type": "markdown",
      "source": [
        "- Fecha de Publicación: Relacionado con el día de la semana en el que se publicó."
      ],
      "metadata": {
        "id": "AU5hzcOLwYOr"
      }
    },
    {
      "cell_type": "markdown",
      "source": [
        "n | Nombre | Descripción | Tipo |\n",
        "-|-|-|-|\n",
        "16 | weekday_is_monday | ¿Lunes? | Binaria\n",
        "17 | weekday_is_tuesday | Martes? | Binaria\n",
        "18 | weekday_is_wednesday | Miércoles? | Binaria\n",
        "19 | weekday_is_thursday | ¿Jueves? | Binaria\n",
        "20 | weekday_is_friday | ¿Viernes? | Binaria\n",
        "21 | weekday_is_saturday | ¿Sábado? | Binaria\n",
        "22 | weekday_is_sunday | ¿Domingo? | Binaria\n",
        "23 | is_weekend | ¿Fin de semana? | Binaria"
      ],
      "metadata": {
        "id": "Vkpa9z9rwdx5"
      }
    },
    {
      "cell_type": "markdown",
      "source": [
        "- Palabras Clave: Las palabras clave de un artículo se encuentran definidas de antemano. Todo artículo tiene una mejor, peor y media palabra clave, ordenadas en función del número total de veces que hayan sido compartidos los artículos en los que aparecen. De cada palabra clave, a su vez,  se conoce el número mínimo, máximo y medio de veces compartidos de los artículos en los que aparece. También se incluye la categoría formal de Marshable a la que pertenece el artículo."
      ],
      "metadata": {
        "id": "HBHQbGwutfeJ"
      }
    },
    {
      "cell_type": "markdown",
      "source": [
        "n | Nombre | Descripción | Tipo |\n",
        "-|-|-|-|\n",
        "24 | num_keywords | Número de palabras clave | Numérica\n",
        "25 | kw_min_min | Número de veces compartido (mínimo) de la peor palabra clave | Numérica\n",
        "26 | kw_avg_min | Número de veces compartido (medio) de la peor palabra clave | Numérica\n",
        "27 | kw_max_min | Número de veces compartido (máximo) de la peor palabra clave | Numérica\n",
        "28 | kw_min_max | Número de veces compartido (mínimo) de la mejor palabra clave | Numérica\n",
        "29 | kw_avg_max | Número de veces compartido (medio) de la mejor palabra clave | Numérica\n",
        "30 | kw_max_max | Número de veces compartido (máximo) de la mejor palabra clave | Numérica\n",
        "31 | kw_min_avg | Número de veces compartido (mínimo) de la mejor palabra media | Numérica\n",
        "32 | kw_avg_avg | Número de veces compartido (medio) de la mejor palabra media | Numérica\n",
        "33 | kw_max_avg | Número de veces compartido (máximo) de la mejor palabra media | Numérica\n",
        "34 | data_channel_is_lifestyle | ¿Categoría del artículo = lifesyle? | Binaria\n",
        "35 | data_channel_is_entertainment | ¿Categoría del artículo = entertainment? | Binaria\n",
        "36 | data_channel_is_bus | ¿Categoría del artículo = bus? | Binaria\n",
        "37 | data_channel_is_socmed | ¿Categoría del artículo = socmed? | Binaria\n",
        "38 | data_channel_is_tech| ¿Categoría del artículo = tech? | Binaria\n",
        "39 | data_channel_is_world | ¿Categoría del artículo = world? | Binaria"
      ],
      "metadata": {
        "id": "66QW1dZMtgLE"
      }
    },
    {
      "cell_type": "markdown",
      "source": [
        "- Procesado de Lenguaje Natural: Adquiridos a través de técnicas de procesado de lenguaje natural como LDA [3] o análisis de sentimientos [4]. El algoritmo LDA permite identificar los 5 temas centrales del conjunto de artículos conocido y la cercanía ([0,1]) de cada artículo a estos. El análisis de sentimientos permite computar distintas medidas relacionadas con el grado de polarización y subjetividad del contenido de un artículo."
      ],
      "metadata": {
        "id": "7CgwSQ_8r_Yt"
      }
    },
    {
      "cell_type": "markdown",
      "source": [
        "n | Nombre | Descripción | Tipo |\n",
        "-|-|-|-|\n",
        "40 | LDA_00 | Cercanía al tema LDA_0 | Binaria\n",
        "41 | LDA_01 | Cercanía al tema LDA_1 | Binaria\n",
        "42 | LDA_02 | Cercanía al tema LDA_2 | Binaria\n",
        "43 | LDA_03 | Cercanía al tema LDA_3 | Binaria\n",
        "44 | LDA_04 | Cercanía al tema LDA_4 | Binaria\n",
        "45 | title_subjectivity | Subjetividad del título | Numérica\n",
        "46 | abs_title_subjectivity | Subjetividad absoluta del título | Numérica\n",
        "47 | title_polarity | Polaridad del título | Numérica\n",
        "48 | abs_title_polarity | Subjetividad absoluta del título | Numérica\n",
        "49 | global_rate_positive_words | Ratio total de palabras positivas | Numérica\n",
        "50 | global_rate_negative_words | Ratio total de palabras negativas | Numérica\n",
        "51 | rate_positive_words | Ratio de palabras positivas respecto a neutrales | Numérica\n",
        "52 | rate_negative_words | Ratio de palabras negativas respecto a neutrales | Numérica\n",
        "53 | min_negative_polarity | Polaridad mínima de palabras negativas | Numérica\n",
        "54 | avg_negative_polarity | Polaridad media de palabras negativas | Numérica\n",
        "55 | max_negative_polarity | Polaridad máxima de palabras negativas | Numérica\n",
        "56 | min_positive_polarity | Polaridad mínima de palabras positivas | Numérica\n",
        "57 | avg_positive_polarity | Polaridad media de palabras positivas | Numérica\n",
        "58 | max_positive_polarity | Polaridad máxima de palabras positivas | Numérica\n",
        "59 | global_subjectivity | Subjetividad del artículo completo | Numérica\n",
        "60 | global_sentiment_polarity | Polaridad del artículo completo | Numérica"
      ],
      "metadata": {
        "id": "gJerYppWtiND"
      }
    },
    {
      "cell_type": "markdown",
      "source": [
        "- Etiqueta: Número de veces compartido o interacciones."
      ],
      "metadata": {
        "id": "DULcy9Ibti7P"
      }
    },
    {
      "cell_type": "markdown",
      "source": [
        "n | Nombre | Descripción | Tipo |\n",
        "-|-|-|-|\n",
        "61 | shares | Número de veces compartido | Numérico"
      ],
      "metadata": {
        "id": "2JOKZLyk49T7"
      }
    },
    {
      "cell_type": "code",
      "source": [
        "from google.colab import drive\n",
        "from matplotlib import pyplot as plt\n",
        "import pandas as pd\n",
        "import numpy as np"
      ],
      "metadata": {
        "id": "-B5VYEz5Tmje"
      },
      "execution_count": null,
      "outputs": []
    },
    {
      "cell_type": "code",
      "source": [
        "# Lectura de datos problema: Popularidad de una noticia online\n",
        "# Carga desde fichero\n",
        "drive.mount('/content/drive')\n",
        "data_filepath = '/content/drive/MyDrive/Tercero_Segundo_Cuatrimestre/AA/PF/OnlineNewsPopularity/OnlineNewsPopularity.csv'\n",
        "df_read_data = pd.read_csv (data_filepath, header=0, delimiter=', ')"
      ],
      "metadata": {
        "colab": {
          "base_uri": "https://localhost:8080/"
        },
        "id": "0-hryyLPSYAb",
        "outputId": "6381d3a7-de08-422d-a08f-7fc162d3cbac"
      },
      "execution_count": null,
      "outputs": [
        {
          "output_type": "stream",
          "name": "stdout",
          "text": [
            "Drive already mounted at /content/drive; to attempt to forcibly remount, call drive.mount(\"/content/drive\", force_remount=True).\n"
          ]
        },
        {
          "output_type": "stream",
          "name": "stderr",
          "text": [
            "/usr/local/lib/python3.7/dist-packages/pandas/util/_decorators.py:311: ParserWarning: Falling back to the 'python' engine because the 'c' engine does not support regex separators (separators > 1 char and different from '\\s+' are interpreted as regex); you can avoid this warning by specifying engine='python'.\n",
            "  return func(*args, **kwargs)\n"
          ]
        }
      ]
    },
    {
      "cell_type": "markdown",
      "source": [
        "### Transformación de Etiquetas"
      ],
      "metadata": {
        "id": "JAghk1K6tbzk"
      }
    },
    {
      "cell_type": "markdown",
      "source": [
        "Como ya se ha mencionado, predecir la popularidad de un artículo se enfrentó como un problema de clasificación binaria: popular e impopular. Obviamente debe aplicarse algún tipo de transformación a la etiqueta de cada artículo, que es un entero que representa el número de veces que se ha compartido un artículo (interacciones). La solución fue sencilla, fijar un umbral para el número de iteraciones de un artículo que divide el espacio en impopulares (etiqueta < umbraletiquetado) y populares (etiqueta >= umbraletiquetado). Esta forma de transformar un problema de regresión a clasificación provoca que los resultados de este estudio sean poco relevantes en un contexto real, al fin y al cabo este umbral se ha fijado de forma arbitraria y el modelo que mejor clasifique en relación a éste no tiene por qué ser el mejor modelo para cualquier otro. Este podría ser un aspecto a mejorar en el futuro. La transformación se aplicó en el pre-procesamiento de datos, tras dividir el conjunto de datos en entrenamiento y test, ya que se utilizó la mediana del conjunto de entrenamiento como umbral (al igual que en [1]).\n"
      ],
      "metadata": {
        "id": "GkoJelV4aWzB"
      }
    },
    {
      "cell_type": "markdown",
      "source": [
        "### Sesgo en la toma de datos"
      ],
      "metadata": {
        "id": "A89WIccX-i4t"
      }
    },
    {
      "cell_type": "markdown",
      "source": [
        "Al igual que en [1], se descartaron los artículos más recientes, aquellos publicados hace menos de 3 semanas de la fecha en la que se adquirieron los datos, ya que el número de veces que se comparte un artículo no suele estabilizarse (alcanzar su valor real) hasta pasado un tiempo. Se estaría introduciendo un sesgo (los artículos publicados días antes del 7 de Enero de 2015 son menos populares que el resto) que se sabe a priori que no es cierto. Esta decisión derivó en la eliminación de un total de 562 artículos, un 1.00% del total, una pérdida asumible.\n",
        ""
      ],
      "metadata": {
        "id": "25JTaK1R6lyO"
      }
    },
    {
      "cell_type": "code",
      "source": [
        "# Eliminar los artículos cuyo número de interacciones no ha alcanzado su máximo\n",
        "num_orig_art = len(df_read_data)\n",
        "df_read_data = df_read_data.drop(df_read_data[df_read_data['timedelta'] < 21].index)"
      ],
      "metadata": {
        "id": "ch4f8cIs6oyM"
      },
      "execution_count": null,
      "outputs": []
    },
    {
      "cell_type": "code",
      "source": [
        "print(\"Número original de artículos: {}\".format(num_orig_art))\n",
        "print(\"Artículos eliminados: {} - {}% del total\".format(num_orig_art-len(df_read_data), np.round((num_orig_art-len(df_read_data))*100.0/num_orig_art), 4))\n",
        "print(\"Número final de artículos: {}\".format(len(df_read_data)))"
      ],
      "metadata": {
        "colab": {
          "base_uri": "https://localhost:8080/"
        },
        "id": "AZEzFUX7_AzJ",
        "outputId": "5b6012fe-ac1e-45a1-953e-f9f6aca14f4c"
      },
      "execution_count": null,
      "outputs": [
        {
          "output_type": "stream",
          "name": "stdout",
          "text": [
            "Número original de artículos: 39644\n",
            "Artículos eliminados: 562 - 1.0% del total\n",
            "Número final de artículos: 39082\n"
          ]
        }
      ]
    },
    {
      "cell_type": "markdown",
      "source": [
        "Recapitulando, del total de artículos (39644) se utilizan 39082. Cada artículo tiene en total 61 variables asociadas (incluída la etiqueta). A partir de estos datos se debe implementar y evaluar un clasificador que prediga si un artículo será popular.\n"
      ],
      "metadata": {
        "id": "8rtBFO8vArKV"
      }
    },
    {
      "cell_type": "markdown",
      "source": [
        "# 3.Metodología"
      ],
      "metadata": {
        "id": "9yKBmdUioQ36"
      }
    },
    {
      "cell_type": "markdown",
      "source": [
        "A través de la biblioteca ScikitLearn [6] se implementaron cada uno de los clasificadores propuestos: Regresión Logística (RL) y Random Forest (RF). Antes de implementar cada uno de ellos, se reservó parte del conjunto de datos (Partición Entrenamiento-Test, subsección 3.1). Salvo que se especifique lo contrario, todos comparten las mismas técnicas de preprocesamiento (Preprocesamiento, subsección 3.2). Todos utilizan las mismas métricas de error para evaluar sus prestaciones (Métricas de Error, subsección 3.3). En esta sección se describen en detalle estos aspectos comunes."
      ],
      "metadata": {
        "id": "6pVbGM9fjnXH"
      }
    },
    {
      "cell_type": "markdown",
      "source": [
        "En la sección dedicada a la implementación y entrenamiento de cada modelo (secciones 4 y 5), se discutirá la idoneidad del algoritmo de aprendizaje, la función pérdida, el tipo de regularización, el valor de sus hiperparámetros ..."
      ],
      "metadata": {
        "id": "LMhJ6pMNjn6K"
      }
    },
    {
      "cell_type": "markdown",
      "source": [
        "Finalmente, en la sección de Conclusiones (sección 6) se seleccionará el modelo con mejores prestaciones (validación cruzada sobre el conjunto de entrenamiento) y se estimará su rendimiento para un caso cualquiera (utilizando el conjunto de test previamente reservado)."
      ],
      "metadata": {
        "id": "_Be1tOumjpts"
      }
    },
    {
      "cell_type": "markdown",
      "source": [
        "## 3.1 Partición Entrenamiento-Test"
      ],
      "metadata": {
        "id": "OsRZB4f1Vo9p"
      }
    },
    {
      "cell_type": "markdown",
      "source": [
        "Para evitar el “data snooping” y poder ofrecer una estimación lo más realista posible de la generalidad del modelo finalmente propuesto, el primer paso antes de visualizar, preprocesar o entrenar con los datos fue dividir de forma aleatoria el total de datos disponibles en dos conjuntos: entrenamiento (80%) y test (20%).\n",
        "\n",
        "Recuérdese que el objetivo del proyecto es construir un modelo capaz de predecir la popularidad de un artículo cualquiera. Se trata de una demostración imposible (infinitos artículos posibles) por lo que es necesario encontrar una estimación alternativa de esta generalidad que permita evaluar el modelo finalmente propuesto. Dicho modelo opera en base a una serie de hipótesis o sesgos que aprende de las características y patrones subyacentes al sub-espacio de casos conocidos (conjunto de entrenamiento). Sin garantía alguna de que este subespacio sea una muestra representativa del espacio completo, el rendimiento del modelo para este subespacio es una estimación demasiado sesgada, demasiado optimista, de la validez de lo aprendido para cualquier caso (\"data snooping\"). Es por esto que se reserva parte de los casos disponibles (el conjunto de test), para estimar la generalidad del modelo finalmente propuesto de forma menos sesgada, más pesimista. Cómo de representativa es esta estimación puede aproximarse a través de la desigualdad de Hoeffding, el tamaño del conjunto de test y una métrica de error cualquiera para dicho conjunto (|Etest|):\n",
        "\n",
        "<center>\n",
        "\n",
        "$P( |E_{test}−E_{out} < ϵ )  ≤  2 ⋅ e^{−2⋅ϵ·2⋅|E_{test}|}$\n",
        "\n",
        "</center>\n",
        "\n",
        "En conclusión, debe reservarse una parte del conjunto de casos disponible (el conjunto de test) que no afecte al funcionamiento del modelo durante ninguna etapa de la implementación (preprocesado, estimación de hiperparámetros, entrenamiento …) para estimar el rendimiento de dicho modelo fuera del subespacio de casos conocido (el conjunto de entrenamiento) de una forma realista. La generalidad del modelo debe evaluarse ante datos que no sesguen su funcionamiento."
      ],
      "metadata": {
        "id": "YcfJac_l6xOc"
      }
    },
    {
      "cell_type": "code",
      "source": [
        "# Train-Test Split\n",
        "from sklearn.model_selection import train_test_split\n",
        "from matplotlib import pyplot as plt\n",
        "\n",
        "# Partición aleatoria (semilla=1), 80-20, manteniendo proporción de las etiquetas.\n",
        "X_train, X_test, y_train, y_test = train_test_split(\n",
        "                                        df_read_data.drop(columns = ['shares']),\n",
        "                                        df_read_data['shares'],\n",
        "                                        train_size   = 0.8,\n",
        "                                        random_state = 1234,\n",
        "                                        shuffle      = True\n",
        ")\n"
      ],
      "metadata": {
        "id": "nQFIw88slzKf"
      },
      "execution_count": null,
      "outputs": []
    },
    {
      "cell_type": "markdown",
      "source": [
        "## 3.2 Visualización de Datos y Pre-Procesamiento"
      ],
      "metadata": {
        "id": "Saj7JyfrWU1w"
      }
    },
    {
      "cell_type": "markdown",
      "source": [
        "Salvo que se especifique lo contrario, se aplicaron las mismas técnicas de preprocesamiento en todos los modelos. Estas técnicas se aplican al conjunto de test y entrenamiento previa utilización en los modelos; sin embargo, las decisiones únicamente deben estar motivadas por el conjunto de entrenamiento (evitar “data snooping”)."
      ],
      "metadata": {
        "id": "1CZjSUyw5tRi"
      }
    },
    {
      "cell_type": "markdown",
      "source": [
        "### 3.2.1 Eliminación de atributos irrelevantes"
      ],
      "metadata": {
        "id": "SQLuZTTn5pZK"
      }
    },
    {
      "cell_type": "markdown",
      "source": [
        "Como se exige en [1], se eliminaron los atributos “timedelta” (días entre la publicación del artículo y la obtención de los datos) y “url” (dirección URL del artículo) ya que son atributos que no influyen en el proceso predictivo."
      ],
      "metadata": {
        "id": "6wcm_4Fh5uyc"
      }
    },
    {
      "cell_type": "code",
      "source": [
        "# Eliminar los atributos no-predictivos\n",
        "X_train = X_train.drop(columns=['timedelta','url'])"
      ],
      "metadata": {
        "id": "3ppTgtPnddDS"
      },
      "execution_count": null,
      "outputs": []
    },
    {
      "cell_type": "markdown",
      "source": [
        "### 3.2.2 Imputación de Valores Ausentes"
      ],
      "metadata": {
        "id": "lUuGpk20os8s"
      }
    },
    {
      "cell_type": "markdown",
      "source": [
        "No existen valores ausentes en el conjunto de entrenamiento ni en el conjunto de test (leve espionaje de datos). Sin embargo, esto no implica que en la práctica el modelo no tenga que enfrentarse a ellos. Si en un futuro se necesita una técnica para la imputación de datos perdidos, se recurriría al criterio descrito en el guión del proyecto."
      ],
      "metadata": {
        "id": "KqLPZ_c95vlj"
      }
    },
    {
      "cell_type": "markdown",
      "source": [
        "### 3.2.3 Varibales Categóricas"
      ],
      "metadata": {
        "id": "PF1unEzd50Oj"
      }
    },
    {
      "cell_type": "markdown",
      "source": [
        "Como ya se ha mencionado se encuentran codificadas (de la forma one-hot-encoding) de antemano (consultar [5])."
      ],
      "metadata": {
        "id": "NnPtahd6521N"
      }
    },
    {
      "cell_type": "code",
      "source": [
        "# Identificación de variables que están binarizadas (proceden de la codificaicón de categñoricas)\n",
        "binary_cols = ['data_channel_is_lifestyle','data_channel_is_entertainment','data_channel_is_bus',\n",
        "               'data_channel_is_socmed','data_channel_is_tech','data_channel_is_world',\n",
        "               'weekday_is_monday','weekday_is_tuesday','weekday_is_wednesday','weekday_is_thursday',\n",
        "               'weekday_is_friday','weekday_is_saturday','weekday_is_sunday','is_weekend']\n",
        "for c in binary_cols:\n",
        " print('Valores posibles de la varibale {}: {}'.format(c, X_train[c].unique() ))"
      ],
      "metadata": {
        "colab": {
          "base_uri": "https://localhost:8080/"
        },
        "id": "nFOV0ISZ7gJ2",
        "outputId": "0d4ae9c6-f207-4e27-d645-c6614f824bf7"
      },
      "execution_count": null,
      "outputs": [
        {
          "output_type": "stream",
          "name": "stdout",
          "text": [
            "Valores posibles de la varibale data_channel_is_lifestyle: [0. 1.]\n",
            "Valores posibles de la varibale data_channel_is_entertainment: [0. 1.]\n",
            "Valores posibles de la varibale data_channel_is_bus: [0. 1.]\n",
            "Valores posibles de la varibale data_channel_is_socmed: [0. 1.]\n",
            "Valores posibles de la varibale data_channel_is_tech: [1. 0.]\n",
            "Valores posibles de la varibale data_channel_is_world: [0. 1.]\n",
            "Valores posibles de la varibale weekday_is_monday: [0. 1.]\n",
            "Valores posibles de la varibale weekday_is_tuesday: [1. 0.]\n",
            "Valores posibles de la varibale weekday_is_wednesday: [0. 1.]\n",
            "Valores posibles de la varibale weekday_is_thursday: [0. 1.]\n",
            "Valores posibles de la varibale weekday_is_friday: [0. 1.]\n",
            "Valores posibles de la varibale weekday_is_saturday: [0. 1.]\n",
            "Valores posibles de la varibale weekday_is_sunday: [0. 1.]\n",
            "Valores posibles de la varibale is_weekend: [0. 1.]\n"
          ]
        }
      ]
    },
    {
      "cell_type": "markdown",
      "source": [
        "### 3.2.4 Varibales Numéricas"
      ],
      "metadata": {
        "id": "Y8zGYA5JVfwx"
      }
    },
    {
      "cell_type": "markdown",
      "source": [
        "A continuación se muestra una tabla con información relativa de cada varibale numérica: media, desviación típica, valores mínimos y máximos y percentiles."
      ],
      "metadata": {
        "id": "GnWNPE127Ou0"
      }
    },
    {
      "cell_type": "code",
      "source": [
        "# Identificación de variables numéricas\n",
        "numeric_cols = np.setdiff1d(X_train.columns, binary_cols)\n",
        "# Tabla: Media, desviación típica, valores mínimos, máximos y percentiles de las varibales numéricas.\n",
        "X_train[numeric_cols].describe()"
      ],
      "metadata": {
        "colab": {
          "base_uri": "https://localhost:8080/",
          "height": 394
        },
        "id": "mgwKcHA17Ple",
        "outputId": "a337105b-a88c-4057-ca63-0f3abd3d1b1c"
      },
      "execution_count": null,
      "outputs": [
        {
          "output_type": "execute_result",
          "data": {
            "text/plain": [
              "             LDA_00        LDA_01        LDA_02        LDA_03        LDA_04  \\\n",
              "count  31265.000000  31265.000000  31265.000000  31265.000000  31265.000000   \n",
              "mean       0.183949      0.141088      0.214871      0.224043      0.236017   \n",
              "std        0.262239      0.219470      0.281239      0.295671      0.290618   \n",
              "min        0.000000      0.000000      0.000000      0.000000      0.000000   \n",
              "25%        0.025048      0.025010      0.028571      0.026278      0.028574   \n",
              "50%        0.033382      0.033345      0.040003      0.040001      0.040965   \n",
              "75%        0.240929      0.150902      0.327994      0.376993      0.405311   \n",
              "max        0.920000      0.925947      0.919999      0.926534      0.927191   \n",
              "\n",
              "       abs_title_sentiment_polarity  abs_title_subjectivity  \\\n",
              "count                  31265.000000            31265.000000   \n",
              "mean                       0.155572                0.342195   \n",
              "std                        0.225953                0.188433   \n",
              "min                        0.000000                0.000000   \n",
              "25%                        0.000000                0.166667   \n",
              "50%                        0.000000                0.500000   \n",
              "75%                        0.250000                0.500000   \n",
              "max                        1.000000                0.500000   \n",
              "\n",
              "       average_token_length  avg_negative_polarity  avg_positive_polarity  \\\n",
              "count          31265.000000           31265.000000           31265.000000   \n",
              "mean               4.556425              -0.259751               0.354920   \n",
              "std                0.822547               0.127067               0.103720   \n",
              "min                0.000000              -1.000000               0.000000   \n",
              "25%                4.479876              -0.327929               0.306782   \n",
              "50%                4.664122              -0.253582               0.359185   \n",
              "75%                4.855670              -0.187500               0.411979   \n",
              "max                8.041534               0.000000               1.000000   \n",
              "\n",
              "       ...  num_keywords  num_self_hrefs    num_videos  rate_negative_words  \\\n",
              "count  ...  31265.000000    31265.000000  31265.000000         31265.000000   \n",
              "mean   ...      7.234671        3.311626      1.270270             0.288011   \n",
              "std    ...      1.905398        3.878145      4.138338             0.155690   \n",
              "min    ...      1.000000        0.000000      0.000000             0.000000   \n",
              "25%    ...      6.000000        1.000000      0.000000             0.185714   \n",
              "50%    ...      7.000000        3.000000      0.000000             0.280000   \n",
              "75%    ...      9.000000        4.000000      1.000000             0.384615   \n",
              "max    ...     10.000000      116.000000     91.000000             1.000000   \n",
              "\n",
              "       rate_positive_words  self_reference_avg_sharess  \\\n",
              "count         31265.000000                31265.000000   \n",
              "mean              0.683779                 6491.992524   \n",
              "std               0.188161                25008.072748   \n",
              "min               0.000000                    0.000000   \n",
              "25%               0.600000                  983.000000   \n",
              "50%               0.711111                 2200.000000   \n",
              "75%               0.800000                 5175.000000   \n",
              "max               1.000000               843300.000000   \n",
              "\n",
              "       self_reference_max_shares  self_reference_min_shares  \\\n",
              "count               31265.000000               31265.000000   \n",
              "mean                10498.844752                4064.525965   \n",
              "std                 42178.200253               20637.930728   \n",
              "min                     0.000000                   0.000000   \n",
              "25%                  1100.000000                 640.000000   \n",
              "50%                  2900.000000                1200.000000   \n",
              "75%                  7900.000000                2600.000000   \n",
              "max                843300.000000              843300.000000   \n",
              "\n",
              "       title_sentiment_polarity  title_subjectivity  \n",
              "count              31265.000000        31265.000000  \n",
              "mean                   0.071247            0.281508  \n",
              "std                    0.264919            0.323845  \n",
              "min                   -1.000000            0.000000  \n",
              "25%                    0.000000            0.000000  \n",
              "50%                    0.000000            0.133333  \n",
              "75%                    0.142424            0.500000  \n",
              "max                    1.000000            1.000000  \n",
              "\n",
              "[8 rows x 44 columns]"
            ],
            "text/html": [
              "\n",
              "  <div id=\"df-54d01f7a-7f13-4d77-b663-7bbdf5785b78\">\n",
              "    <div class=\"colab-df-container\">\n",
              "      <div>\n",
              "<style scoped>\n",
              "    .dataframe tbody tr th:only-of-type {\n",
              "        vertical-align: middle;\n",
              "    }\n",
              "\n",
              "    .dataframe tbody tr th {\n",
              "        vertical-align: top;\n",
              "    }\n",
              "\n",
              "    .dataframe thead th {\n",
              "        text-align: right;\n",
              "    }\n",
              "</style>\n",
              "<table border=\"1\" class=\"dataframe\">\n",
              "  <thead>\n",
              "    <tr style=\"text-align: right;\">\n",
              "      <th></th>\n",
              "      <th>LDA_00</th>\n",
              "      <th>LDA_01</th>\n",
              "      <th>LDA_02</th>\n",
              "      <th>LDA_03</th>\n",
              "      <th>LDA_04</th>\n",
              "      <th>abs_title_sentiment_polarity</th>\n",
              "      <th>abs_title_subjectivity</th>\n",
              "      <th>average_token_length</th>\n",
              "      <th>avg_negative_polarity</th>\n",
              "      <th>avg_positive_polarity</th>\n",
              "      <th>...</th>\n",
              "      <th>num_keywords</th>\n",
              "      <th>num_self_hrefs</th>\n",
              "      <th>num_videos</th>\n",
              "      <th>rate_negative_words</th>\n",
              "      <th>rate_positive_words</th>\n",
              "      <th>self_reference_avg_sharess</th>\n",
              "      <th>self_reference_max_shares</th>\n",
              "      <th>self_reference_min_shares</th>\n",
              "      <th>title_sentiment_polarity</th>\n",
              "      <th>title_subjectivity</th>\n",
              "    </tr>\n",
              "  </thead>\n",
              "  <tbody>\n",
              "    <tr>\n",
              "      <th>count</th>\n",
              "      <td>31265.000000</td>\n",
              "      <td>31265.000000</td>\n",
              "      <td>31265.000000</td>\n",
              "      <td>31265.000000</td>\n",
              "      <td>31265.000000</td>\n",
              "      <td>31265.000000</td>\n",
              "      <td>31265.000000</td>\n",
              "      <td>31265.000000</td>\n",
              "      <td>31265.000000</td>\n",
              "      <td>31265.000000</td>\n",
              "      <td>...</td>\n",
              "      <td>31265.000000</td>\n",
              "      <td>31265.000000</td>\n",
              "      <td>31265.000000</td>\n",
              "      <td>31265.000000</td>\n",
              "      <td>31265.000000</td>\n",
              "      <td>31265.000000</td>\n",
              "      <td>31265.000000</td>\n",
              "      <td>31265.000000</td>\n",
              "      <td>31265.000000</td>\n",
              "      <td>31265.000000</td>\n",
              "    </tr>\n",
              "    <tr>\n",
              "      <th>mean</th>\n",
              "      <td>0.183949</td>\n",
              "      <td>0.141088</td>\n",
              "      <td>0.214871</td>\n",
              "      <td>0.224043</td>\n",
              "      <td>0.236017</td>\n",
              "      <td>0.155572</td>\n",
              "      <td>0.342195</td>\n",
              "      <td>4.556425</td>\n",
              "      <td>-0.259751</td>\n",
              "      <td>0.354920</td>\n",
              "      <td>...</td>\n",
              "      <td>7.234671</td>\n",
              "      <td>3.311626</td>\n",
              "      <td>1.270270</td>\n",
              "      <td>0.288011</td>\n",
              "      <td>0.683779</td>\n",
              "      <td>6491.992524</td>\n",
              "      <td>10498.844752</td>\n",
              "      <td>4064.525965</td>\n",
              "      <td>0.071247</td>\n",
              "      <td>0.281508</td>\n",
              "    </tr>\n",
              "    <tr>\n",
              "      <th>std</th>\n",
              "      <td>0.262239</td>\n",
              "      <td>0.219470</td>\n",
              "      <td>0.281239</td>\n",
              "      <td>0.295671</td>\n",
              "      <td>0.290618</td>\n",
              "      <td>0.225953</td>\n",
              "      <td>0.188433</td>\n",
              "      <td>0.822547</td>\n",
              "      <td>0.127067</td>\n",
              "      <td>0.103720</td>\n",
              "      <td>...</td>\n",
              "      <td>1.905398</td>\n",
              "      <td>3.878145</td>\n",
              "      <td>4.138338</td>\n",
              "      <td>0.155690</td>\n",
              "      <td>0.188161</td>\n",
              "      <td>25008.072748</td>\n",
              "      <td>42178.200253</td>\n",
              "      <td>20637.930728</td>\n",
              "      <td>0.264919</td>\n",
              "      <td>0.323845</td>\n",
              "    </tr>\n",
              "    <tr>\n",
              "      <th>min</th>\n",
              "      <td>0.000000</td>\n",
              "      <td>0.000000</td>\n",
              "      <td>0.000000</td>\n",
              "      <td>0.000000</td>\n",
              "      <td>0.000000</td>\n",
              "      <td>0.000000</td>\n",
              "      <td>0.000000</td>\n",
              "      <td>0.000000</td>\n",
              "      <td>-1.000000</td>\n",
              "      <td>0.000000</td>\n",
              "      <td>...</td>\n",
              "      <td>1.000000</td>\n",
              "      <td>0.000000</td>\n",
              "      <td>0.000000</td>\n",
              "      <td>0.000000</td>\n",
              "      <td>0.000000</td>\n",
              "      <td>0.000000</td>\n",
              "      <td>0.000000</td>\n",
              "      <td>0.000000</td>\n",
              "      <td>-1.000000</td>\n",
              "      <td>0.000000</td>\n",
              "    </tr>\n",
              "    <tr>\n",
              "      <th>25%</th>\n",
              "      <td>0.025048</td>\n",
              "      <td>0.025010</td>\n",
              "      <td>0.028571</td>\n",
              "      <td>0.026278</td>\n",
              "      <td>0.028574</td>\n",
              "      <td>0.000000</td>\n",
              "      <td>0.166667</td>\n",
              "      <td>4.479876</td>\n",
              "      <td>-0.327929</td>\n",
              "      <td>0.306782</td>\n",
              "      <td>...</td>\n",
              "      <td>6.000000</td>\n",
              "      <td>1.000000</td>\n",
              "      <td>0.000000</td>\n",
              "      <td>0.185714</td>\n",
              "      <td>0.600000</td>\n",
              "      <td>983.000000</td>\n",
              "      <td>1100.000000</td>\n",
              "      <td>640.000000</td>\n",
              "      <td>0.000000</td>\n",
              "      <td>0.000000</td>\n",
              "    </tr>\n",
              "    <tr>\n",
              "      <th>50%</th>\n",
              "      <td>0.033382</td>\n",
              "      <td>0.033345</td>\n",
              "      <td>0.040003</td>\n",
              "      <td>0.040001</td>\n",
              "      <td>0.040965</td>\n",
              "      <td>0.000000</td>\n",
              "      <td>0.500000</td>\n",
              "      <td>4.664122</td>\n",
              "      <td>-0.253582</td>\n",
              "      <td>0.359185</td>\n",
              "      <td>...</td>\n",
              "      <td>7.000000</td>\n",
              "      <td>3.000000</td>\n",
              "      <td>0.000000</td>\n",
              "      <td>0.280000</td>\n",
              "      <td>0.711111</td>\n",
              "      <td>2200.000000</td>\n",
              "      <td>2900.000000</td>\n",
              "      <td>1200.000000</td>\n",
              "      <td>0.000000</td>\n",
              "      <td>0.133333</td>\n",
              "    </tr>\n",
              "    <tr>\n",
              "      <th>75%</th>\n",
              "      <td>0.240929</td>\n",
              "      <td>0.150902</td>\n",
              "      <td>0.327994</td>\n",
              "      <td>0.376993</td>\n",
              "      <td>0.405311</td>\n",
              "      <td>0.250000</td>\n",
              "      <td>0.500000</td>\n",
              "      <td>4.855670</td>\n",
              "      <td>-0.187500</td>\n",
              "      <td>0.411979</td>\n",
              "      <td>...</td>\n",
              "      <td>9.000000</td>\n",
              "      <td>4.000000</td>\n",
              "      <td>1.000000</td>\n",
              "      <td>0.384615</td>\n",
              "      <td>0.800000</td>\n",
              "      <td>5175.000000</td>\n",
              "      <td>7900.000000</td>\n",
              "      <td>2600.000000</td>\n",
              "      <td>0.142424</td>\n",
              "      <td>0.500000</td>\n",
              "    </tr>\n",
              "    <tr>\n",
              "      <th>max</th>\n",
              "      <td>0.920000</td>\n",
              "      <td>0.925947</td>\n",
              "      <td>0.919999</td>\n",
              "      <td>0.926534</td>\n",
              "      <td>0.927191</td>\n",
              "      <td>1.000000</td>\n",
              "      <td>0.500000</td>\n",
              "      <td>8.041534</td>\n",
              "      <td>0.000000</td>\n",
              "      <td>1.000000</td>\n",
              "      <td>...</td>\n",
              "      <td>10.000000</td>\n",
              "      <td>116.000000</td>\n",
              "      <td>91.000000</td>\n",
              "      <td>1.000000</td>\n",
              "      <td>1.000000</td>\n",
              "      <td>843300.000000</td>\n",
              "      <td>843300.000000</td>\n",
              "      <td>843300.000000</td>\n",
              "      <td>1.000000</td>\n",
              "      <td>1.000000</td>\n",
              "    </tr>\n",
              "  </tbody>\n",
              "</table>\n",
              "<p>8 rows × 44 columns</p>\n",
              "</div>\n",
              "      <button class=\"colab-df-convert\" onclick=\"convertToInteractive('df-54d01f7a-7f13-4d77-b663-7bbdf5785b78')\"\n",
              "              title=\"Convert this dataframe to an interactive table.\"\n",
              "              style=\"display:none;\">\n",
              "        \n",
              "  <svg xmlns=\"http://www.w3.org/2000/svg\" height=\"24px\"viewBox=\"0 0 24 24\"\n",
              "       width=\"24px\">\n",
              "    <path d=\"M0 0h24v24H0V0z\" fill=\"none\"/>\n",
              "    <path d=\"M18.56 5.44l.94 2.06.94-2.06 2.06-.94-2.06-.94-.94-2.06-.94 2.06-2.06.94zm-11 1L8.5 8.5l.94-2.06 2.06-.94-2.06-.94L8.5 2.5l-.94 2.06-2.06.94zm10 10l.94 2.06.94-2.06 2.06-.94-2.06-.94-.94-2.06-.94 2.06-2.06.94z\"/><path d=\"M17.41 7.96l-1.37-1.37c-.4-.4-.92-.59-1.43-.59-.52 0-1.04.2-1.43.59L10.3 9.45l-7.72 7.72c-.78.78-.78 2.05 0 2.83L4 21.41c.39.39.9.59 1.41.59.51 0 1.02-.2 1.41-.59l7.78-7.78 2.81-2.81c.8-.78.8-2.07 0-2.86zM5.41 20L4 18.59l7.72-7.72 1.47 1.35L5.41 20z\"/>\n",
              "  </svg>\n",
              "      </button>\n",
              "      \n",
              "  <style>\n",
              "    .colab-df-container {\n",
              "      display:flex;\n",
              "      flex-wrap:wrap;\n",
              "      gap: 12px;\n",
              "    }\n",
              "\n",
              "    .colab-df-convert {\n",
              "      background-color: #E8F0FE;\n",
              "      border: none;\n",
              "      border-radius: 50%;\n",
              "      cursor: pointer;\n",
              "      display: none;\n",
              "      fill: #1967D2;\n",
              "      height: 32px;\n",
              "      padding: 0 0 0 0;\n",
              "      width: 32px;\n",
              "    }\n",
              "\n",
              "    .colab-df-convert:hover {\n",
              "      background-color: #E2EBFA;\n",
              "      box-shadow: 0px 1px 2px rgba(60, 64, 67, 0.3), 0px 1px 3px 1px rgba(60, 64, 67, 0.15);\n",
              "      fill: #174EA6;\n",
              "    }\n",
              "\n",
              "    [theme=dark] .colab-df-convert {\n",
              "      background-color: #3B4455;\n",
              "      fill: #D2E3FC;\n",
              "    }\n",
              "\n",
              "    [theme=dark] .colab-df-convert:hover {\n",
              "      background-color: #434B5C;\n",
              "      box-shadow: 0px 1px 3px 1px rgba(0, 0, 0, 0.15);\n",
              "      filter: drop-shadow(0px 1px 2px rgba(0, 0, 0, 0.3));\n",
              "      fill: #FFFFFF;\n",
              "    }\n",
              "  </style>\n",
              "\n",
              "      <script>\n",
              "        const buttonEl =\n",
              "          document.querySelector('#df-54d01f7a-7f13-4d77-b663-7bbdf5785b78 button.colab-df-convert');\n",
              "        buttonEl.style.display =\n",
              "          google.colab.kernel.accessAllowed ? 'block' : 'none';\n",
              "\n",
              "        async function convertToInteractive(key) {\n",
              "          const element = document.querySelector('#df-54d01f7a-7f13-4d77-b663-7bbdf5785b78');\n",
              "          const dataTable =\n",
              "            await google.colab.kernel.invokeFunction('convertToInteractive',\n",
              "                                                     [key], {});\n",
              "          if (!dataTable) return;\n",
              "\n",
              "          const docLinkHtml = 'Like what you see? Visit the ' +\n",
              "            '<a target=\"_blank\" href=https://colab.research.google.com/notebooks/data_table.ipynb>data table notebook</a>'\n",
              "            + ' to learn more about interactive tables.';\n",
              "          element.innerHTML = '';\n",
              "          dataTable['output_type'] = 'display_data';\n",
              "          await google.colab.output.renderOutput(dataTable, element);\n",
              "          const docLink = document.createElement('div');\n",
              "          docLink.innerHTML = docLinkHtml;\n",
              "          element.appendChild(docLink);\n",
              "        }\n",
              "      </script>\n",
              "    </div>\n",
              "  </div>\n",
              "  "
            ]
          },
          "metadata": {},
          "execution_count": 123
        }
      ]
    },
    {
      "cell_type": "markdown",
      "source": [
        "Se observó que los valores de estos atributos para los artículos del conjunto de entrenamiento se encuentran distribuidos en escalas dramáticamente distintas. Esta diferencia de escala puede afectar negativamente al funcionamiento de alguno de los modelos implementados (RL) [7]. Para solventar esta problemática se estandarizaron los valores de cada uno de estos atributos numéricos. Estandarizar es una técnica de re-escalado que consiste en restar la media y dividir entre la varianza del atributo a cada valor de este. Ejemplo de estandarización para el número de palabras total del artículo (n_tokens_content) y el máximo de veces que se comparte la palabra clave más compartida de un artículo (kw_max_max)."
      ],
      "metadata": {
        "id": "45a2NvhW5zCi"
      }
    },
    {
      "cell_type": "code",
      "source": [
        "# Instacnciación del escalor\n",
        "from sklearn.preprocessing import StandardScaler\n",
        "scaler = StandardScaler(with_mean=True, with_std=True)"
      ],
      "metadata": {
        "id": "gEUt5HwH0no4"
      },
      "execution_count": null,
      "outputs": []
    },
    {
      "cell_type": "code",
      "source": [
        "transformed = scaler.fit_transform(X_train[['n_tokens_content', 'kw_max_max']])"
      ],
      "metadata": {
        "id": "Fzqd6Qii0mVD"
      },
      "execution_count": null,
      "outputs": []
    },
    {
      "cell_type": "code",
      "source": [
        "transformed = pd.DataFrame(transformed, columns = scaler.get_feature_names_out(['n_tokens_content' , 'kw_max_max']))"
      ],
      "metadata": {
        "id": "Ohcu4yIp0koD"
      },
      "execution_count": null,
      "outputs": []
    },
    {
      "cell_type": "code",
      "source": [
        "# Figura\n",
        "fig, axes = plt.subplots(1,2)\n",
        "fig.set_facecolor(\"w\")\n",
        "fig.set_figheight(fig.get_figheight()*2)\n",
        "fig.set_figwidth(fig.get_figwidth()*4)\n",
        "\n",
        "axes[0].scatter(X_train[['n_tokens_content']], X_train[['kw_max_max']], label='Dist. PRE-escalado.')\n",
        "axes[0].scatter(transformed[['n_tokens_content']], transformed[['kw_max_max']], color='r', label='Dist. POST-escalado.')\n",
        "axes[0].set_title('Comparativa distribucción de valores PRE y POST de la distribución.', fontsize='x-large')\n",
        "axes[0].set_xlabel('n_tokens_content', fontsize='x-large')\n",
        "axes[0].set_ylabel('kw_max_max', fontsize='x-large')\n",
        "\n",
        "axes[1].scatter(transformed[['n_tokens_content']], transformed[['kw_max_max']], color='r', label='Dist. POST-escalado.')\n",
        "axes[1].set_title('Distribución de valores POST re-escalado.', fontsize='x-large')\n",
        "axes[1].set_xlabel('n_tokens_content', fontsize='x-large')\n",
        "axes[1].set_ylabel('kw_max_max', fontsize='x-large')\n",
        "\n",
        "\n",
        "# Título\n",
        "#fig.suptitle('Figura 1: Ejemplo de estandarización. Una escala mucho más comparable.', fontsize = \"xx-large\", y=0)\n",
        "fig.suptitle('Figura X: Ejemplo de re-escalado a través de la técnica de estandarización para los atributos n_tokens_content y kw_max_max.', fontsize = \"xx-large\", y=0)\n",
        "axes[0].legend(fontsize='x-large')\n",
        "plt.show()"
      ],
      "metadata": {
        "colab": {
          "base_uri": "https://localhost:8080/",
          "height": 574
        },
        "id": "vcKJa45s0iKQ",
        "outputId": "c69623de-2908-4d99-9616-845d597d337b"
      },
      "execution_count": null,
      "outputs": [
        {
          "output_type": "display_data",
          "data": {
            "text/plain": [
              "<Figure size 1728x576 with 2 Axes>"
            ],
            "image/png": "[encoded data removed]"
          },
          "metadata": {}
        }
      ]
    },
    {
      "cell_type": "markdown",
      "source": [
        "Como puede observarse, se trata de una transformación lineal que mantiene las distancias entre valores (la forma de la distribución) re-escalando sus valores a una escala más manejable para el algoritmo de aprendizaje de ciertos modelos como la RL."
      ],
      "metadata": {
        "id": "k4lGkzaK57z3"
      }
    },
    {
      "cell_type": "code",
      "source": [
        "transformed.describe()"
      ],
      "metadata": {
        "colab": {
          "base_uri": "https://localhost:8080/",
          "height": 300
        },
        "id": "lehw5vt9Ee9O",
        "outputId": "de20fb73-3eb1-487c-a290-e982c69dc7f7"
      },
      "execution_count": null,
      "outputs": [
        {
          "output_type": "execute_result",
          "data": {
            "text/plain": [
              "       n_tokens_content    kw_max_max\n",
              "count      3.126500e+04  3.126500e+04\n",
              "mean       8.226978e-17 -1.706757e-16\n",
              "std        1.000016e+00  1.000016e+00\n",
              "min       -1.158931e+00 -3.484515e+00\n",
              "25%       -6.349477e-01  4.277493e-01\n",
              "50%       -2.912829e-01  4.277493e-01\n",
              "75%        3.536190e-01  4.277493e-01\n",
              "max        1.681771e+01  4.277493e-01"
            ],
            "text/html": [
              "\n",
              "  <div id=\"df-66682ac0-67d8-4dac-877d-e22b6959800d\">\n",
              "    <div class=\"colab-df-container\">\n",
              "      <div>\n",
              "<style scoped>\n",
              "    .dataframe tbody tr th:only-of-type {\n",
              "        vertical-align: middle;\n",
              "    }\n",
              "\n",
              "    .dataframe tbody tr th {\n",
              "        vertical-align: top;\n",
              "    }\n",
              "\n",
              "    .dataframe thead th {\n",
              "        text-align: right;\n",
              "    }\n",
              "</style>\n",
              "<table border=\"1\" class=\"dataframe\">\n",
              "  <thead>\n",
              "    <tr style=\"text-align: right;\">\n",
              "      <th></th>\n",
              "      <th>n_tokens_content</th>\n",
              "      <th>kw_max_max</th>\n",
              "    </tr>\n",
              "  </thead>\n",
              "  <tbody>\n",
              "    <tr>\n",
              "      <th>count</th>\n",
              "      <td>3.126500e+04</td>\n",
              "      <td>3.126500e+04</td>\n",
              "    </tr>\n",
              "    <tr>\n",
              "      <th>mean</th>\n",
              "      <td>8.226978e-17</td>\n",
              "      <td>-1.706757e-16</td>\n",
              "    </tr>\n",
              "    <tr>\n",
              "      <th>std</th>\n",
              "      <td>1.000016e+00</td>\n",
              "      <td>1.000016e+00</td>\n",
              "    </tr>\n",
              "    <tr>\n",
              "      <th>min</th>\n",
              "      <td>-1.158931e+00</td>\n",
              "      <td>-3.484515e+00</td>\n",
              "    </tr>\n",
              "    <tr>\n",
              "      <th>25%</th>\n",
              "      <td>-6.349477e-01</td>\n",
              "      <td>4.277493e-01</td>\n",
              "    </tr>\n",
              "    <tr>\n",
              "      <th>50%</th>\n",
              "      <td>-2.912829e-01</td>\n",
              "      <td>4.277493e-01</td>\n",
              "    </tr>\n",
              "    <tr>\n",
              "      <th>75%</th>\n",
              "      <td>3.536190e-01</td>\n",
              "      <td>4.277493e-01</td>\n",
              "    </tr>\n",
              "    <tr>\n",
              "      <th>max</th>\n",
              "      <td>1.681771e+01</td>\n",
              "      <td>4.277493e-01</td>\n",
              "    </tr>\n",
              "  </tbody>\n",
              "</table>\n",
              "</div>\n",
              "      <button class=\"colab-df-convert\" onclick=\"convertToInteractive('df-66682ac0-67d8-4dac-877d-e22b6959800d')\"\n",
              "              title=\"Convert this dataframe to an interactive table.\"\n",
              "              style=\"display:none;\">\n",
              "        \n",
              "  <svg xmlns=\"http://www.w3.org/2000/svg\" height=\"24px\"viewBox=\"0 0 24 24\"\n",
              "       width=\"24px\">\n",
              "    <path d=\"M0 0h24v24H0V0z\" fill=\"none\"/>\n",
              "    <path d=\"M18.56 5.44l.94 2.06.94-2.06 2.06-.94-2.06-.94-.94-2.06-.94 2.06-2.06.94zm-11 1L8.5 8.5l.94-2.06 2.06-.94-2.06-.94L8.5 2.5l-.94 2.06-2.06.94zm10 10l.94 2.06.94-2.06 2.06-.94-2.06-.94-.94-2.06-.94 2.06-2.06.94z\"/><path d=\"M17.41 7.96l-1.37-1.37c-.4-.4-.92-.59-1.43-.59-.52 0-1.04.2-1.43.59L10.3 9.45l-7.72 7.72c-.78.78-.78 2.05 0 2.83L4 21.41c.39.39.9.59 1.41.59.51 0 1.02-.2 1.41-.59l7.78-7.78 2.81-2.81c.8-.78.8-2.07 0-2.86zM5.41 20L4 18.59l7.72-7.72 1.47 1.35L5.41 20z\"/>\n",
              "  </svg>\n",
              "      </button>\n",
              "      \n",
              "  <style>\n",
              "    .colab-df-container {\n",
              "      display:flex;\n",
              "      flex-wrap:wrap;\n",
              "      gap: 12px;\n",
              "    }\n",
              "\n",
              "    .colab-df-convert {\n",
              "      background-color: #E8F0FE;\n",
              "      border: none;\n",
              "      border-radius: 50%;\n",
              "      cursor: pointer;\n",
              "      display: none;\n",
              "      fill: #1967D2;\n",
              "      height: 32px;\n",
              "      padding: 0 0 0 0;\n",
              "      width: 32px;\n",
              "    }\n",
              "\n",
              "    .colab-df-convert:hover {\n",
              "      background-color: #E2EBFA;\n",
              "      box-shadow: 0px 1px 2px rgba(60, 64, 67, 0.3), 0px 1px 3px 1px rgba(60, 64, 67, 0.15);\n",
              "      fill: #174EA6;\n",
              "    }\n",
              "\n",
              "    [theme=dark] .colab-df-convert {\n",
              "      background-color: #3B4455;\n",
              "      fill: #D2E3FC;\n",
              "    }\n",
              "\n",
              "    [theme=dark] .colab-df-convert:hover {\n",
              "      background-color: #434B5C;\n",
              "      box-shadow: 0px 1px 3px 1px rgba(0, 0, 0, 0.15);\n",
              "      filter: drop-shadow(0px 1px 2px rgba(0, 0, 0, 0.3));\n",
              "      fill: #FFFFFF;\n",
              "    }\n",
              "  </style>\n",
              "\n",
              "      <script>\n",
              "        const buttonEl =\n",
              "          document.querySelector('#df-66682ac0-67d8-4dac-877d-e22b6959800d button.colab-df-convert');\n",
              "        buttonEl.style.display =\n",
              "          google.colab.kernel.accessAllowed ? 'block' : 'none';\n",
              "\n",
              "        async function convertToInteractive(key) {\n",
              "          const element = document.querySelector('#df-66682ac0-67d8-4dac-877d-e22b6959800d');\n",
              "          const dataTable =\n",
              "            await google.colab.kernel.invokeFunction('convertToInteractive',\n",
              "                                                     [key], {});\n",
              "          if (!dataTable) return;\n",
              "\n",
              "          const docLinkHtml = 'Like what you see? Visit the ' +\n",
              "            '<a target=\"_blank\" href=https://colab.research.google.com/notebooks/data_table.ipynb>data table notebook</a>'\n",
              "            + ' to learn more about interactive tables.';\n",
              "          element.innerHTML = '';\n",
              "          dataTable['output_type'] = 'display_data';\n",
              "          await google.colab.output.renderOutput(dataTable, element);\n",
              "          const docLink = document.createElement('div');\n",
              "          docLink.innerHTML = docLinkHtml;\n",
              "          element.appendChild(docLink);\n",
              "        }\n",
              "      </script>\n",
              "    </div>\n",
              "  </div>\n",
              "  "
            ]
          },
          "metadata": {},
          "execution_count": 128
        }
      ]
    },
    {
      "cell_type": "markdown",
      "source": [
        "Antes del re-escalado n_token_content ∈ [0, 8000] y kw_max_max∈ [0, 800000] (hasta 2 órdenes de magnitud de diferencia). Después del re-escalado n_tokens_content ∈ [-1.16, 1.68] y kw_max_max∈ [-3.52, 0.42]. Matizar que esta técnica no es robusta frente a valores anómalamente altos, podría discutirse la adecuación de un técnica de re-escalado de este tipo."
      ],
      "metadata": {
        "id": "ppyTGjlBEf-n"
      }
    },
    {
      "cell_type": "markdown",
      "source": [
        "### 3.2.5 Etiquetas"
      ],
      "metadata": {
        "id": "47okDhr3oIod"
      }
    },
    {
      "cell_type": "markdown",
      "source": [
        "Al igual que en [1], el umbral seleccionado para re-etiquetar los datos fue la mediana de las etiquetas del  conjunto de entrenamiento 1400 interacciones (iteraciones). Convenientemente, este umbral genera una distribución balanceada de las etiquetas para el conjunto de entrenamiento: 56.16% de artículos que son populares y 46.84% que no lo son."
      ],
      "metadata": {
        "id": "el8rcvitbhxa"
      }
    },
    {
      "cell_type": "code",
      "source": [
        "# Tranformación de etiquetas\n",
        "umbral = df_read_data['shares'].median()\n",
        "df_read_data['shares'][df_read_data['shares'] < umbral] = -1 # Artículos impopulares\n",
        "df_read_data['shares'][df_read_data['shares'] >= umbral ] = 1 # Artículos populares\n",
        "df_read_data.rename(columns={'shares':'popularidad'}, inplace=True)"
      ],
      "metadata": {
        "colab": {
          "base_uri": "https://localhost:8080/"
        },
        "id": "dYQJ65TFqdAt",
        "outputId": "3257afde-d3e3-4075-f10e-5eb365e9c52e"
      },
      "execution_count": null,
      "outputs": [
        {
          "output_type": "stream",
          "name": "stderr",
          "text": [
            "/usr/local/lib/python3.7/dist-packages/ipykernel_launcher.py:3: SettingWithCopyWarning: \n",
            "A value is trying to be set on a copy of a slice from a DataFrame\n",
            "\n",
            "See the caveats in the documentation: https://pandas.pydata.org/pandas-docs/stable/user_guide/indexing.html#returning-a-view-versus-a-copy\n",
            "  This is separate from the ipykernel package so we can avoid doing imports until\n",
            "/usr/local/lib/python3.7/dist-packages/ipykernel_launcher.py:4: SettingWithCopyWarning: \n",
            "A value is trying to be set on a copy of a slice from a DataFrame\n",
            "\n",
            "See the caveats in the documentation: https://pandas.pydata.org/pandas-docs/stable/user_guide/indexing.html#returning-a-view-versus-a-copy\n",
            "  after removing the cwd from sys.path.\n"
          ]
        }
      ]
    },
    {
      "cell_type": "code",
      "source": [
        "# Tranformación de etiquetas\n",
        "umbral = y_train.median()\n",
        "y_train[y_train < umbral] = -1 # Artículos impopulares\n",
        "y_train[y_train >= umbral ] = 1 # Artículos populares"
      ],
      "metadata": {
        "id": "Vg9lWNBkpVdh"
      },
      "execution_count": null,
      "outputs": []
    },
    {
      "cell_type": "code",
      "source": [
        "# DDistribución gráfica de la figura\n",
        "fig, axe = plt.subplots(1,1)\n",
        "fig.set_facecolor(\"w\")\n",
        "fig.set_figheight(fig.get_figheight()*2)\n",
        "fig.set_figwidth(fig.get_figwidth()*2)\n",
        "fig.suptitle('Figura X: Distribución de etiquetas. Popular = 1. Impopular = -1. ', fontsize = \"xx-large\", y=0)\n",
        "axe.tick_params(labelsize = \"xx-large\")\n",
        "axe.set_xlabel(\"Etiquetas\", labelpad=20.0, fontsize = \"xx-large\")\n",
        "axe.set_ylabel(\"Frecuencia\", labelpad=20.0, fontsize = \"xx-large\")\n",
        "y_train.value_counts().plot.bar(color = ['red','blue'])\n",
        "plt.show()"
      ],
      "metadata": {
        "colab": {
          "base_uri": "https://localhost:8080/",
          "height": 556
        },
        "id": "R-Ym7C85qeg0",
        "outputId": "0baec74e-a0e8-4f49-be80-5c4525d9f8df"
      },
      "execution_count": null,
      "outputs": [
        {
          "output_type": "display_data",
          "data": {
            "text/plain": [
              "<Figure size 864x576 with 1 Axes>"
            ],
            "image/png": "[encoded data removed]"
          },
          "metadata": {}
        }
      ]
    },
    {
      "cell_type": "code",
      "source": [
        "print(\"Porcentaje total de artículos populares (1): \",np.round(len(y_train[y_train == 1]) / len(y_train) * 100,2),\"%\")\n",
        "print(\"Porcentaje total de artículos impopulares (-1): \",np.round(len(y_train[y_train ==-1]) / len(y_train) * 100,2),\"%\")"
      ],
      "metadata": {
        "colab": {
          "base_uri": "https://localhost:8080/"
        },
        "id": "fvrl-j8kBzbz",
        "outputId": "874771de-55dd-4aaa-d178-178577c1d594"
      },
      "execution_count": null,
      "outputs": [
        {
          "output_type": "stream",
          "name": "stdout",
          "text": [
            "Porcentaje total de artículos populares (1):  53.16 %\n",
            "Porcentaje total de artículos impopulares (-1):  46.84 %\n"
          ]
        }
      ]
    },
    {
      "cell_type": "markdown",
      "source": [
        "### 3.2.6 Implementación del Preprocesado"
      ],
      "metadata": {
        "id": "DJm9DpVRhohs"
      }
    },
    {
      "cell_type": "code",
      "source": [
        "# Pre-procesado de datos\n",
        "from sklearn.preprocessing import StandardScaler\n",
        "from sklearn.compose import ColumnTransformer\n",
        "preprocessor = ColumnTransformer(\n",
        "                    transformers=[\n",
        "                        ('numeric', StandardScaler(), numeric_cols),\n",
        "                    ],\n",
        "                    remainder='passthrough'\n",
        "                )"
      ],
      "metadata": {
        "id": "FLkmoWcchw8g"
      },
      "execution_count": null,
      "outputs": []
    },
    {
      "cell_type": "markdown",
      "source": [
        "## 3.3 Evaluación de Modelos"
      ],
      "metadata": {
        "id": "gl1JcXcp6GcC"
      }
    },
    {
      "cell_type": "markdown",
      "source": [
        "### 3.3.1 Métricas de Error"
      ],
      "metadata": {
        "id": "q4OrDjWLomB_"
      }
    },
    {
      "cell_type": "markdown",
      "source": [
        "Para caracterizar adecuadamente el funcionamiento de los modelos se calculó la accuracy, precision, recall, F1, con un umbral-de-decisión = 0.5. Recuérdese que los algoritmos implementados emplean un enfoque estadístico, predicen la probabilidad (p) de que un caso pertenezca a una determinada clase, probabilidad que se transforma en etiqueta si p > umbral-de-decisión, con umbral-de-decisión ∈ [0, 1]. No confundir este umbral con el utilizado para etiquetar los datos."
      ],
      "metadata": {
        "id": "Iwap6gTTciEF"
      }
    },
    {
      "cell_type": "markdown",
      "source": [
        "Dado que se trata de una muestra balanceada, la accuracy fue la métrica utilizada como referencia para comparar modelos."
      ],
      "metadata": {
        "id": "RhvOXRP9kmBT"
      }
    },
    {
      "cell_type": "markdown",
      "source": [
        "A modo de marco de referencia respecto al que valorar el valor de estas métricas para cada modelo concreto, se crearon 3 modelos de prueba o dummies: uno que responde siempre en positivo, otro que responde siempre en negativo, otro que responde de forma aleatoria. El error de estos clasificadores de prueba para un conjunto de datos con la misma distribución de etiquetas que el conjunto de entrenamiento es el siguiente."
      ],
      "metadata": {
        "id": "IEBho0uTlGfI"
      }
    },
    {
      "cell_type": "code",
      "source": [
        "# Creación y evaluación de dummies\n",
        "from sklearn.metrics import classification_report\n",
        "from sklearn.metrics import precision_score\n",
        "from sklearn.metrics import recall_score\n",
        "from sklearn.metrics import f1_score\n",
        "from sklearn.metrics import accuracy_score\n",
        "from sklearn.metrics import roc_auc_score\n",
        "\n",
        "# Predicciones de los Dummies para el conjunto de entrenamiento\n",
        "et_siempre_pos = [1 for e in y_train]\n",
        "et_siempre_neg = [-1 for e in y_train]\n",
        "et_aleatorias = [np.random.choice([-1,1]) for e in y_train]\n",
        "\n",
        "results = []\n",
        "results.append(et_siempre_pos)\n",
        "results.append(et_siempre_neg)\n",
        "results.append(et_aleatorias)\n",
        "\n",
        "dummies = ['Positivo', 'Negativo', 'Aleatorio']\n",
        "\n",
        "# Tabla de resultados\n",
        "tabla = pd.DataFrame(columns = ['Dummy', 'precision' , 'recall', 'f1', 'accuracy'])\n",
        "for i,d in enumerate(dummies):\n",
        "  p = precision_score(y_train, results[i], zero_division=0)\n",
        "  r = recall_score(y_train, results[i], zero_division=0)\n",
        "  f1 = f1_score(y_train, results[i], zero_division=0)\n",
        "  a = accuracy_score(y_train, results[i])\n",
        "  tabla=tabla.append({'Dummy':dummies[i], 'precision':p , 'recall':r, 'f1':f1, 'accuracy':a}, ignore_index=True)\n",
        "\n",
        "print(\"Tabla 1: Prestaciones de referencia para evaluar los modelos implementados. Matizar que la precision, el recall y F1 son relativas a la etiqueta positiva (=popular=1).\")\n",
        "tabla"
      ],
      "metadata": {
        "id": "xr_RSpO2q1Mn",
        "colab": {
          "base_uri": "https://localhost:8080/",
          "height": 161
        },
        "outputId": "03ccbcfa-ca49-4e81-c3f1-1a4ac19df8da"
      },
      "execution_count": null,
      "outputs": [
        {
          "output_type": "stream",
          "name": "stdout",
          "text": [
            "Tabla 1: Prestaciones de referencia para evaluar los modelos implementados. Matizar que la precision, el recall y F1 son relativas a la etiqueta positiva (=popular=1).\n"
          ]
        },
        {
          "output_type": "execute_result",
          "data": {
            "text/plain": [
              "       Dummy  precision    recall        f1  accuracy\n",
              "0   Positivo   0.531649  1.000000  0.694218  0.531649\n",
              "1   Negativo   0.000000  0.000000  0.000000  0.468351\n",
              "2  Aleatorio   0.531338  0.497774  0.514009  0.499568"
            ],
            "text/html": [
              "\n",
              "  <div id=\"df-b1161efa-fa49-4e18-9082-8c3c590e234d\">\n",
              "    <div class=\"colab-df-container\">\n",
              "      <div>\n",
              "<style scoped>\n",
              "    .dataframe tbody tr th:only-of-type {\n",
              "        vertical-align: middle;\n",
              "    }\n",
              "\n",
              "    .dataframe tbody tr th {\n",
              "        vertical-align: top;\n",
              "    }\n",
              "\n",
              "    .dataframe thead th {\n",
              "        text-align: right;\n",
              "    }\n",
              "</style>\n",
              "<table border=\"1\" class=\"dataframe\">\n",
              "  <thead>\n",
              "    <tr style=\"text-align: right;\">\n",
              "      <th></th>\n",
              "      <th>Dummy</th>\n",
              "      <th>precision</th>\n",
              "      <th>recall</th>\n",
              "      <th>f1</th>\n",
              "      <th>accuracy</th>\n",
              "    </tr>\n",
              "  </thead>\n",
              "  <tbody>\n",
              "    <tr>\n",
              "      <th>0</th>\n",
              "      <td>Positivo</td>\n",
              "      <td>0.531649</td>\n",
              "      <td>1.000000</td>\n",
              "      <td>0.694218</td>\n",
              "      <td>0.531649</td>\n",
              "    </tr>\n",
              "    <tr>\n",
              "      <th>1</th>\n",
              "      <td>Negativo</td>\n",
              "      <td>0.000000</td>\n",
              "      <td>0.000000</td>\n",
              "      <td>0.000000</td>\n",
              "      <td>0.468351</td>\n",
              "    </tr>\n",
              "    <tr>\n",
              "      <th>2</th>\n",
              "      <td>Aleatorio</td>\n",
              "      <td>0.531338</td>\n",
              "      <td>0.497774</td>\n",
              "      <td>0.514009</td>\n",
              "      <td>0.499568</td>\n",
              "    </tr>\n",
              "  </tbody>\n",
              "</table>\n",
              "</div>\n",
              "      <button class=\"colab-df-convert\" onclick=\"convertToInteractive('df-b1161efa-fa49-4e18-9082-8c3c590e234d')\"\n",
              "              title=\"Convert this dataframe to an interactive table.\"\n",
              "              style=\"display:none;\">\n",
              "        \n",
              "  <svg xmlns=\"http://www.w3.org/2000/svg\" height=\"24px\"viewBox=\"0 0 24 24\"\n",
              "       width=\"24px\">\n",
              "    <path d=\"M0 0h24v24H0V0z\" fill=\"none\"/>\n",
              "    <path d=\"M18.56 5.44l.94 2.06.94-2.06 2.06-.94-2.06-.94-.94-2.06-.94 2.06-2.06.94zm-11 1L8.5 8.5l.94-2.06 2.06-.94-2.06-.94L8.5 2.5l-.94 2.06-2.06.94zm10 10l.94 2.06.94-2.06 2.06-.94-2.06-.94-.94-2.06-.94 2.06-2.06.94z\"/><path d=\"M17.41 7.96l-1.37-1.37c-.4-.4-.92-.59-1.43-.59-.52 0-1.04.2-1.43.59L10.3 9.45l-7.72 7.72c-.78.78-.78 2.05 0 2.83L4 21.41c.39.39.9.59 1.41.59.51 0 1.02-.2 1.41-.59l7.78-7.78 2.81-2.81c.8-.78.8-2.07 0-2.86zM5.41 20L4 18.59l7.72-7.72 1.47 1.35L5.41 20z\"/>\n",
              "  </svg>\n",
              "      </button>\n",
              "      \n",
              "  <style>\n",
              "    .colab-df-container {\n",
              "      display:flex;\n",
              "      flex-wrap:wrap;\n",
              "      gap: 12px;\n",
              "    }\n",
              "\n",
              "    .colab-df-convert {\n",
              "      background-color: #E8F0FE;\n",
              "      border: none;\n",
              "      border-radius: 50%;\n",
              "      cursor: pointer;\n",
              "      display: none;\n",
              "      fill: #1967D2;\n",
              "      height: 32px;\n",
              "      padding: 0 0 0 0;\n",
              "      width: 32px;\n",
              "    }\n",
              "\n",
              "    .colab-df-convert:hover {\n",
              "      background-color: #E2EBFA;\n",
              "      box-shadow: 0px 1px 2px rgba(60, 64, 67, 0.3), 0px 1px 3px 1px rgba(60, 64, 67, 0.15);\n",
              "      fill: #174EA6;\n",
              "    }\n",
              "\n",
              "    [theme=dark] .colab-df-convert {\n",
              "      background-color: #3B4455;\n",
              "      fill: #D2E3FC;\n",
              "    }\n",
              "\n",
              "    [theme=dark] .colab-df-convert:hover {\n",
              "      background-color: #434B5C;\n",
              "      box-shadow: 0px 1px 3px 1px rgba(0, 0, 0, 0.15);\n",
              "      filter: drop-shadow(0px 1px 2px rgba(0, 0, 0, 0.3));\n",
              "      fill: #FFFFFF;\n",
              "    }\n",
              "  </style>\n",
              "\n",
              "      <script>\n",
              "        const buttonEl =\n",
              "          document.querySelector('#df-b1161efa-fa49-4e18-9082-8c3c590e234d button.colab-df-convert');\n",
              "        buttonEl.style.display =\n",
              "          google.colab.kernel.accessAllowed ? 'block' : 'none';\n",
              "\n",
              "        async function convertToInteractive(key) {\n",
              "          const element = document.querySelector('#df-b1161efa-fa49-4e18-9082-8c3c590e234d');\n",
              "          const dataTable =\n",
              "            await google.colab.kernel.invokeFunction('convertToInteractive',\n",
              "                                                     [key], {});\n",
              "          if (!dataTable) return;\n",
              "\n",
              "          const docLinkHtml = 'Like what you see? Visit the ' +\n",
              "            '<a target=\"_blank\" href=https://colab.research.google.com/notebooks/data_table.ipynb>data table notebook</a>'\n",
              "            + ' to learn more about interactive tables.';\n",
              "          element.innerHTML = '';\n",
              "          dataTable['output_type'] = 'display_data';\n",
              "          await google.colab.output.renderOutput(dataTable, element);\n",
              "          const docLink = document.createElement('div');\n",
              "          docLink.innerHTML = docLinkHtml;\n",
              "          element.appendChild(docLink);\n",
              "        }\n",
              "      </script>\n",
              "    </div>\n",
              "  </div>\n",
              "  "
            ]
          },
          "metadata": {},
          "execution_count": 135
        }
      ]
    },
    {
      "cell_type": "markdown",
      "source": [
        "### 3.3.2 Validación Cruzada"
      ],
      "metadata": {
        "id": "eohcgpaFoptn"
      }
    },
    {
      "cell_type": "markdown",
      "source": [
        "Cada vez que se quiso evaluar un modelo candidato para compararlo con otros, en lugar de ofrecer el valor de  las métricas previamente descritas sobre el propio conjunto de entrenamiento (valores demasiado sesgados/optimistas) o sobre el conjunto de test (“data snooping”) se utilizó una técnica de validación conocida como validación cruzada. De forma aleatoria se divide el conjunto de entrenamiento en k partes. Se entrena y evalúa el algoritmo k veces. Para cada una de las veces, se utiliza una parte distinta para evaluar el modelo y las k-1 restantes para entrenarlo. La combinación (media) de las prestaciones del modelo en estos k escenarios son una estimación algo más realista de la generalidad del modelo que probarlo para una partición cualquiera (menor riesgo de \"overfitting\"). En el contexto de la estimación experimental de hiperparámetros, la funcionalidad GridSearchCV de ScikitLearn permite construir de forma automática un modelo para cada combinación de hiperparámetros y aplicar esta técnica de validación (CV) para cada uno de ellos. Si bien el guión seguido en este proyecto prohíbe su uso para determinar TODOS los hiperparámetros en una misma llamada, esperamos que utilizarlo de forma puntual y jsutificada, para alguno de ellos, sea tolerable."
      ],
      "metadata": {
        "id": "mL8OYsXEpwAy"
      }
    },
    {
      "cell_type": "markdown",
      "source": [
        "# 4.Regresión Logística"
      ],
      "metadata": {
        "id": "K4_nzG_sCp2U"
      }
    },
    {
      "cell_type": "markdown",
      "source": [
        "El primer modelo implementó una regresión logística (entropía cruzada) con SGD como algoritmo de aprendizaje. Obviamente la función coste o pérdida a optimizar fue la entropía cruzada.\n",
        "\n",
        "<center>\n",
        "\n",
        "$E_{in}(w)=\\frac{1}{N}∑ln(1+e^{-y_nw^Tx_n})$\n",
        "\n",
        "</center>\n",
        "\n",
        "Esta función coste y este algoritmo de aprendizaje admiten dos tipos de regularización: Ll y L2. Ambas añaden un término a la función coste dependiente de los coeficientes a estimar (predictores) que penaliza el valor de la función pérdida cuanto mayor sea el valor estos. El peso de esta penalización puede ajustarse a través de parámetro 𝜆. L1 penaliza la suma del valor absoluto de los predictores. Provoca que los predictores tiendan a cero, anulando el peso de los atributos más irrelevantes. L2 penaliza la suma de los predictores al cuadrado. Provoca que se reduzca de forma proporcional el valor de todos los coeficientes del modelo pero sin que estos lleguen a cero.\n",
        "\n",
        "<center>\n",
        "\n",
        "$L_1 \\rightarrow E_{in}(w)= \\lambda_{L_1}·\\sum ||w|| + \\frac{1}{N}∑ln(1+e^{-y_nw^Tx_n}) $\n",
        "\n",
        "</center>\n",
        "\n",
        "<center>\n",
        "\n",
        "$L_2 \\rightarrow E_{in}(w)= \\lambda_{L_2}·\\sum ||w||^2 + \\frac{1}{N}∑ln(1+e^{-y_nw^Tx_n}) $\n",
        "\n",
        "</center>\n",
        "\n",
        "\n",
        "Los resultados de [1], donde se observó que los atributos relacionados con las palabras clave de un artículo tienen mucha más importancia (de cara a la popularidad) que el resto, sugirieron el uso de L1 (suele provocar la eliminación de los menos relevantes).\n"
      ],
      "metadata": {
        "id": "XX1ycFAghQJ_"
      }
    },
    {
      "cell_type": "markdown",
      "source": [
        "### 4.1 Estimación de Hiperparámetros"
      ],
      "metadata": {
        "id": "CHrXXcTChUbD"
      }
    },
    {
      "cell_type": "markdown",
      "source": [
        "En base a lo anteriormente descrito y a la implementación del modelo ofrecida por ScikitLearn (SGDClassifier), los hiperparámetros a determinar son los siguientes: la tasa de aprendizaje y el criterio de parada del SGD, el tipo regularización y el coeficiente 𝜆  que ajusta su influencia.\n",
        "\n",
        "- SGD:\n",
        "  - Criterio de parada: Early Stopping, para evitar el sobreajuste. Requiere de tres parámetros adicionales: proporción de datos utilizados para la validación (validation_fraction), número de épocas sin mejorar (n_iter_no_mejora) y la tolerancia (tol). El algoritmo se detiene cuando el valor de la función coste para el conjunto de validación tras una iteración es mayor que el mínimo valor encontrado menos la tolerancia durante n_iter_no_mejora iteraciones del algoritmo. Los valores utilizados fueron los siguientes.\n",
        "    - n_iter_no_mejora = 20\n",
        "    - tol = 0.00001\n",
        "    - validation_fraction = 20 %\n",
        "\n",
        "- Tasa de aprendizaje: Óptima. Recomendada ScikitLearn. Basada en una heurística propuesta por Leon Bottou. Utiliza el valor de 𝜆.\n",
        "\n",
        "- Regularización:\n",
        "  - Tipo: L1. Como ya se ha comentado, los resultados de [1] sugieren este tipo de regularización\n",
        "  - 𝜆: Influencia de la penalización de la regularización L1. Coeficiente determinado de forma experimental a través de un proceso de validación cruzada sobre el conjunto de entrenamiento (GridSearchCV). Valores evaluados: 0.0 (ninguna), 0.00001, 0.0001 (valor por defecto de ScikitLearn), 0.001, 0.01, 0.1 y 1. Éste es uno de esos casos en los que esperamos que si este permitido el uso de esta herramienta (estimar un único hiperparámetro de forma justificada).\n"
      ],
      "metadata": {
        "id": "DT2FSQj1hX8h"
      }
    },
    {
      "cell_type": "markdown",
      "source": [
        "## 4.2 Resultados Experimentales"
      ],
      "metadata": {
        "id": "zATMjMGFlz0D"
      }
    },
    {
      "cell_type": "markdown",
      "source": [
        "### 4.2.1 Coeficiente de Regularización"
      ],
      "metadata": {
        "id": "Xh_wCd-6l7js"
      }
    },
    {
      "cell_type": "markdown",
      "source": [
        "El mejor valor más adecuado para $\\lambda$ es aquel que provocó una mayor accuracy (recuérdese, métrica de referencia): $𝜆=0.01$. La primera celda de código, después de los imports, implementa, entrena y evalúa un clasificador sin regularización $\\lambda = 0.0$. La segunda celda de código, implementa, entrena y evalúa distintos clasificadores logísticos en función del valor de $\\lambda$ (a través de la herramienta GridSearchCV)."
      ],
      "metadata": {
        "id": "Rd6_j5AZuqzw"
      }
    },
    {
      "cell_type": "code",
      "source": [
        "from sklearn.pipeline import Pipeline\n",
        "from sklearn.linear_model import SGDClassifier\n",
        "from sklearn.model_selection import GridSearchCV\n",
        "from sklearn.model_selection import StratifiedKFold\n",
        "from sklearn.model_selection import cross_validate\n",
        "import multiprocessing"
      ],
      "metadata": {
        "id": "orF3NK4CrTMR"
      },
      "execution_count": null,
      "outputs": []
    },
    {
      "cell_type": "code",
      "source": [
        "# Modelo SIN REGULARIZACION\n",
        "modelo = SGDClassifier(\n",
        "                        loss='log',\n",
        "                        learning_rate='optimal',\n",
        "                        penalty='none',\n",
        "                        alpha=0.0001,\n",
        "                        early_stopping=True,\n",
        "                        validation_fraction = 0.2,\n",
        "                        tol=0.00001,\n",
        "                        n_iter_no_change=20,\n",
        "                        random_state = 1234\n",
        ")\n",
        "\n",
        "# Pipeline\n",
        "pipe_rl = Pipeline([('preprocessing', preprocessor),('RL', modelo)])\n",
        "\n",
        "# Evaluación del modelo\n",
        "cv_scores = cross_validate(\n",
        "                estimator = pipe_rl,\n",
        "                X         = X_train,\n",
        "                y         = y_train,\n",
        "                scoring = ('accuracy'),\n",
        "                cv        = StratifiedKFold(n_splits = 5, shuffle=True, random_state = 1234),\n",
        "                n_jobs     = multiprocessing.cpu_count() - 1,\n",
        "                verbose = 0\n",
        ")\n",
        "print('Resultados de la accuracy (media y dt) cuando 𝜆=0 (sin regularización L1): {} - {}'.format(np.round(cv_scores['test_score'].mean(), 4), np.round(cv_scores['test_score'].std(), 4)))"
      ],
      "metadata": {
        "colab": {
          "base_uri": "https://localhost:8080/"
        },
        "id": "mdxNxKKoeFfj",
        "outputId": "f56d94b8-1ff4-4e3c-b38f-47975760facb"
      },
      "execution_count": null,
      "outputs": [
        {
          "output_type": "stream",
          "name": "stdout",
          "text": [
            "Resultados de la accuracy (media y dt) cuando 𝜆=0 (sin regularización L1): 0.5967 - 0.0372\n"
          ]
        }
      ]
    },
    {
      "cell_type": "code",
      "source": [
        "# Modelos con REGULARIZACION L1 y alpha = {0.00001, 0.0001, 0.001, 0.01, 0.1, 1}\n",
        "modelo = SGDClassifier(\n",
        "                        loss='log',\n",
        "                        learning_rate='optimal',\n",
        "                        penalty='none',\n",
        "                        alpha=0.0001,\n",
        "                        early_stopping=True,\n",
        "                        validation_fraction = 0.2,\n",
        "                        tol=0.00001,\n",
        "                        n_iter_no_change=20,\n",
        "                        random_state = 1234\n",
        ")\n",
        "\n",
        "# Pipeline: preprocesado + modelo\n",
        "pipe_rl = Pipeline([('preprocessing', preprocessor),('RL', modelo)])\n",
        "\n",
        "# Valores posibles: el valor 0.0 debe aplicarse por separado\n",
        "param_grid = {'RL__alpha': [0.00001, 0.0001, 0.001, 0.01, 0.1, 1]}\n",
        "\n",
        "#Se realiza crossvalidation (5 particiones) del modelo para cada valor del hiperparámetro\n",
        "grid = GridSearchCV(\n",
        "        estimator  = pipe_rl,\n",
        "        param_grid = param_grid,\n",
        "        scoring    = 'accuracy',\n",
        "        cv         = StratifiedKFold(n_splits = 5, shuffle=True, random_state = 1234),\n",
        "        verbose = 0\n",
        ")\n",
        "\n",
        "# Ajuste\n",
        "_ = grid.fit(X = X_train, y = y_train)\n",
        "\n",
        "# Resultados\n",
        "print('Resultados de la accuracy para varios modelos candidatos, cada uno entrenado con un 𝜆 distinto.')\n",
        "print('Los resultados proceden de aplicar validación cruzada (5 particiones) sobre el conjunto de entrenamiento a cada modelo candidato.')\n",
        "resultados = pd.DataFrame(grid.cv_results_)\n",
        "resultados.filter(regex = '(param.*|mean_t|std_t)')\\\n",
        "    .drop(columns = 'params')\\\n",
        "    .sort_values('mean_test_score', ascending = False)"
      ],
      "metadata": {
        "colab": {
          "base_uri": "https://localhost:8080/",
          "height": 272
        },
        "id": "ZGhUBKCSIVfC",
        "outputId": "3c60099b-a835-4be3-d448-a51894c783fa"
      },
      "execution_count": null,
      "outputs": [
        {
          "output_type": "stream",
          "name": "stdout",
          "text": [
            "Resultados de la accuracy para varios modelos candidatos, cada uno entrenado con un 𝜆 distinto.\n",
            "Los resultados proceden de aplicar validación cruzada (5 particiones) sobre el conjunto de entrenamiento a cada modelo candidato.\n"
          ]
        },
        {
          "output_type": "execute_result",
          "data": {
            "text/plain": [
              "  param_RL__alpha  mean_test_score  std_test_score\n",
              "3            0.01         0.647113        0.005449\n",
              "4             0.1         0.642987        0.005999\n",
              "2           0.001         0.634767        0.024471\n",
              "5               1         0.607388        0.010077\n",
              "1          0.0001         0.596674        0.037220\n",
              "0         0.00001         0.570126        0.022244"
            ],
            "text/html": [
              "\n",
              "  <div id=\"df-3d19b473-44e3-4d09-8c11-46f6a4a337bf\">\n",
              "    <div class=\"colab-df-container\">\n",
              "      <div>\n",
              "<style scoped>\n",
              "    .dataframe tbody tr th:only-of-type {\n",
              "        vertical-align: middle;\n",
              "    }\n",
              "\n",
              "    .dataframe tbody tr th {\n",
              "        vertical-align: top;\n",
              "    }\n",
              "\n",
              "    .dataframe thead th {\n",
              "        text-align: right;\n",
              "    }\n",
              "</style>\n",
              "<table border=\"1\" class=\"dataframe\">\n",
              "  <thead>\n",
              "    <tr style=\"text-align: right;\">\n",
              "      <th></th>\n",
              "      <th>param_RL__alpha</th>\n",
              "      <th>mean_test_score</th>\n",
              "      <th>std_test_score</th>\n",
              "    </tr>\n",
              "  </thead>\n",
              "  <tbody>\n",
              "    <tr>\n",
              "      <th>3</th>\n",
              "      <td>0.01</td>\n",
              "      <td>0.647113</td>\n",
              "      <td>0.005449</td>\n",
              "    </tr>\n",
              "    <tr>\n",
              "      <th>4</th>\n",
              "      <td>0.1</td>\n",
              "      <td>0.642987</td>\n",
              "      <td>0.005999</td>\n",
              "    </tr>\n",
              "    <tr>\n",
              "      <th>2</th>\n",
              "      <td>0.001</td>\n",
              "      <td>0.634767</td>\n",
              "      <td>0.024471</td>\n",
              "    </tr>\n",
              "    <tr>\n",
              "      <th>5</th>\n",
              "      <td>1</td>\n",
              "      <td>0.607388</td>\n",
              "      <td>0.010077</td>\n",
              "    </tr>\n",
              "    <tr>\n",
              "      <th>1</th>\n",
              "      <td>0.0001</td>\n",
              "      <td>0.596674</td>\n",
              "      <td>0.037220</td>\n",
              "    </tr>\n",
              "    <tr>\n",
              "      <th>0</th>\n",
              "      <td>0.00001</td>\n",
              "      <td>0.570126</td>\n",
              "      <td>0.022244</td>\n",
              "    </tr>\n",
              "  </tbody>\n",
              "</table>\n",
              "</div>\n",
              "      <button class=\"colab-df-convert\" onclick=\"convertToInteractive('df-3d19b473-44e3-4d09-8c11-46f6a4a337bf')\"\n",
              "              title=\"Convert this dataframe to an interactive table.\"\n",
              "              style=\"display:none;\">\n",
              "        \n",
              "  <svg xmlns=\"http://www.w3.org/2000/svg\" height=\"24px\"viewBox=\"0 0 24 24\"\n",
              "       width=\"24px\">\n",
              "    <path d=\"M0 0h24v24H0V0z\" fill=\"none\"/>\n",
              "    <path d=\"M18.56 5.44l.94 2.06.94-2.06 2.06-.94-2.06-.94-.94-2.06-.94 2.06-2.06.94zm-11 1L8.5 8.5l.94-2.06 2.06-.94-2.06-.94L8.5 2.5l-.94 2.06-2.06.94zm10 10l.94 2.06.94-2.06 2.06-.94-2.06-.94-.94-2.06-.94 2.06-2.06.94z\"/><path d=\"M17.41 7.96l-1.37-1.37c-.4-.4-.92-.59-1.43-.59-.52 0-1.04.2-1.43.59L10.3 9.45l-7.72 7.72c-.78.78-.78 2.05 0 2.83L4 21.41c.39.39.9.59 1.41.59.51 0 1.02-.2 1.41-.59l7.78-7.78 2.81-2.81c.8-.78.8-2.07 0-2.86zM5.41 20L4 18.59l7.72-7.72 1.47 1.35L5.41 20z\"/>\n",
              "  </svg>\n",
              "      </button>\n",
              "      \n",
              "  <style>\n",
              "    .colab-df-container {\n",
              "      display:flex;\n",
              "      flex-wrap:wrap;\n",
              "      gap: 12px;\n",
              "    }\n",
              "\n",
              "    .colab-df-convert {\n",
              "      background-color: #E8F0FE;\n",
              "      border: none;\n",
              "      border-radius: 50%;\n",
              "      cursor: pointer;\n",
              "      display: none;\n",
              "      fill: #1967D2;\n",
              "      height: 32px;\n",
              "      padding: 0 0 0 0;\n",
              "      width: 32px;\n",
              "    }\n",
              "\n",
              "    .colab-df-convert:hover {\n",
              "      background-color: #E2EBFA;\n",
              "      box-shadow: 0px 1px 2px rgba(60, 64, 67, 0.3), 0px 1px 3px 1px rgba(60, 64, 67, 0.15);\n",
              "      fill: #174EA6;\n",
              "    }\n",
              "\n",
              "    [theme=dark] .colab-df-convert {\n",
              "      background-color: #3B4455;\n",
              "      fill: #D2E3FC;\n",
              "    }\n",
              "\n",
              "    [theme=dark] .colab-df-convert:hover {\n",
              "      background-color: #434B5C;\n",
              "      box-shadow: 0px 1px 3px 1px rgba(0, 0, 0, 0.15);\n",
              "      filter: drop-shadow(0px 1px 2px rgba(0, 0, 0, 0.3));\n",
              "      fill: #FFFFFF;\n",
              "    }\n",
              "  </style>\n",
              "\n",
              "      <script>\n",
              "        const buttonEl =\n",
              "          document.querySelector('#df-3d19b473-44e3-4d09-8c11-46f6a4a337bf button.colab-df-convert');\n",
              "        buttonEl.style.display =\n",
              "          google.colab.kernel.accessAllowed ? 'block' : 'none';\n",
              "\n",
              "        async function convertToInteractive(key) {\n",
              "          const element = document.querySelector('#df-3d19b473-44e3-4d09-8c11-46f6a4a337bf');\n",
              "          const dataTable =\n",
              "            await google.colab.kernel.invokeFunction('convertToInteractive',\n",
              "                                                     [key], {});\n",
              "          if (!dataTable) return;\n",
              "\n",
              "          const docLinkHtml = 'Like what you see? Visit the ' +\n",
              "            '<a target=\"_blank\" href=https://colab.research.google.com/notebooks/data_table.ipynb>data table notebook</a>'\n",
              "            + ' to learn more about interactive tables.';\n",
              "          element.innerHTML = '';\n",
              "          dataTable['output_type'] = 'display_data';\n",
              "          await google.colab.output.renderOutput(dataTable, element);\n",
              "          const docLink = document.createElement('div');\n",
              "          docLink.innerHTML = docLinkHtml;\n",
              "          element.appendChild(docLink);\n",
              "        }\n",
              "      </script>\n",
              "    </div>\n",
              "  </div>\n",
              "  "
            ]
          },
          "metadata": {},
          "execution_count": 137
        }
      ]
    },
    {
      "cell_type": "markdown",
      "source": [
        "### 4.2.2 Prestaciones del Modelo"
      ],
      "metadata": {
        "id": "WIzdd79ullRr"
      }
    },
    {
      "cell_type": "markdown",
      "source": [
        "Evaluando el mejor clasificador logístico encontrado ($𝜆=0.01$) sobre el conjunto de entrenamiento utilizando validación cruzada con 5 particiones, se obtienen los siguientes resultados."
      ],
      "metadata": {
        "id": "YGiuTqVQu4th"
      }
    },
    {
      "cell_type": "code",
      "source": [
        "# Modelo\n",
        "modelo = SGDClassifier(\n",
        "                        loss='log',\n",
        "                        learning_rate='optimal',\n",
        "                        penalty='l1',\n",
        "                        alpha=0.01,\n",
        "                        early_stopping=True,\n",
        "                        validation_fraction = 0.2,\n",
        "                        tol=0.00001,\n",
        "                        n_iter_no_change=20,\n",
        "                        random_state = 1234\n",
        ")\n",
        "\n",
        "# Pipeline\n",
        "pipe_rl = Pipeline([('preprocessing', preprocessor),('RL', modelo)])\n",
        "\n",
        "# Evaluación del modelo\n",
        "from sklearn.model_selection import cross_validate\n",
        "cv_scores = cross_validate(\n",
        "                estimator = pipe_rl,\n",
        "                X         = X_train,\n",
        "                y         = y_train,\n",
        "                scoring = ('precision','recall','f1','accuracy'),\n",
        "                cv        = StratifiedKFold(n_splits = 5, shuffle=True, random_state = 1234),\n",
        ")"
      ],
      "metadata": {
        "id": "o6OX8O1BZPfL"
      },
      "execution_count": null,
      "outputs": []
    },
    {
      "cell_type": "code",
      "source": [
        "print('Prestaciones globales del modelo RL (validación cruzada sobre el conjunto de entrenamiento, 5 particiones).')\n",
        "print('Precision: {}'.format(np.round(cv_scores['test_precision'].mean(), 4)))\n",
        "print('Recall: {}'.format(np.round(cv_scores['test_recall'].mean(), 4)))\n",
        "print('F1: {}'.format(np.round(cv_scores['test_f1'].mean(), 4)))\n",
        "print('Accuracy: {}'.format(np.round(cv_scores['test_accuracy'].mean(), 4)))\n",
        "print('Tiempo: {}'.format(np.round(cv_scores['fit_time'].mean(), 4)))"
      ],
      "metadata": {
        "colab": {
          "base_uri": "https://localhost:8080/"
        },
        "id": "2BuwLKfzYTRJ",
        "outputId": "bf93a6c1-d164-4bb8-c504-102fde9ef3b4"
      },
      "execution_count": null,
      "outputs": [
        {
          "output_type": "stream",
          "name": "stdout",
          "text": [
            "Prestaciones globales del modelo RL (validación cruzada sobre el conjunto de entrenamiento, 5 particiones).\n",
            "Precision: 0.6378\n",
            "Recall: 0.7374\n",
            "F1: 0.6839\n",
            "Accuracy: 0.6377\n",
            "Tiempo: 0.771\n"
          ]
        }
      ]
    },
    {
      "cell_type": "markdown",
      "source": [
        "### 4.2.3 Curva de Aprendizaje"
      ],
      "metadata": {
        "id": "w25_0LUvoHEn"
      }
    },
    {
      "cell_type": "markdown",
      "source": [
        "A fin de comprobar que el modelo está aprendiendo, se generó la curva de aprendizaje para una de las particiones anteriores. Como puede observarse, las prestaciones del modelo (accuracy) para el conjunto de entrenamiento y de validación crecen con la proporción de datos utilizados (del conjunto de entrenamiento) durante el entrenamiento. Efectivamente, el modelo está aprendiendo"
      ],
      "metadata": {
        "id": "TQEfcfy2oLK-"
      }
    },
    {
      "cell_type": "code",
      "source": [
        "# Curva de apredizaje del proceso anterior (priemra de las particiones)\n",
        "from sklearn.metrics import accuracy_score\n",
        "\n",
        "# Genero particiones\n",
        "cv= StratifiedKFold(n_splits = 5, shuffle=True, random_state = 1234)\n",
        "\n",
        "primera = True\n",
        "c = X_train.columns\n",
        "\n",
        "train_scores = []\n",
        "val_scores = []\n",
        "\n",
        "for train_index, val_index in cv.split(X_train, y_train):\n",
        "  # Para la primera partición (redundante hacerlo para el resto)\n",
        "  if(primera):\n",
        "    train_sizes = np.arange(10, len(train_index), 100)\n",
        "    # Almacenamos el errro conforme aumenta el tamaño de los datos con los que se entrena\n",
        "    for size in np.arange(10, len(train_index), 100):\n",
        "      # Error de entrenamiento\n",
        "      X_train_split = pd.DataFrame(columns = c, data = X_train.to_numpy()[train_index])\n",
        "      y_train_split = y_train.to_numpy()[train_index]\n",
        "      X_train_split_size = pd.DataFrame(columns = c, data = X_train.to_numpy()[train_index[0:size]])\n",
        "      y_train_split_size = y_train.to_numpy()[train_index[0:size]]\n",
        "      pipe_rl.fit(X_train_split_size, y_train_split_size)\n",
        "      y_train_split_pred = pipe_rl.predict(X_train_split)\n",
        "      train_scores.append(accuracy_score(y_train_split, y_train_split_pred))\n",
        "      # Error de validación\n",
        "      X_val_split = pd.DataFrame(columns = c, data = X_train.to_numpy()[val_index])\n",
        "      y_val_split = y_train.to_numpy()[val_index]\n",
        "      y_val_split_pred = pipe_rl.predict(X_val_split)\n",
        "      val_scores.append(accuracy_score(y_val_split, y_val_split_pred))\n",
        "      print(\"{} de {}\".format(size, len(train_index)))\n",
        "    primera = False"
      ],
      "metadata": {
        "id": "SYs_OYgTRQhx"
      },
      "execution_count": null,
      "outputs": []
    },
    {
      "cell_type": "code",
      "source": [
        "#Plotear Curva de aprendizaje\n",
        "fig, axe = plt.subplots(1,1)\n",
        "fig.set_facecolor(\"w\")\n",
        "fig.set_figheight(fig.get_figheight()*2)\n",
        "fig.set_figwidth(fig.get_figwidth()*2)\n",
        "fig.suptitle('Figura X: Curva de aprendizaje del RL.', fontsize = \"xx-large\", y=-0.02)\n",
        "\n",
        "axe.tick_params(labelsize = \"xx-large\")\n",
        "axe.set_xlabel(\"Número de Muestras\", labelpad=20.0, fontsize = \"xx-large\")\n",
        "axe.set_ylabel(\"Calidad del Ajuste (accuracy)\", labelpad=20.0, fontsize = \"xx-large\")\n",
        "axe.plot(train_sizes, train_scores, label='Entrenamiento')\n",
        "axe.plot(train_sizes, val_scores, label='Validación')\n",
        "\n",
        "plt.legend(fontsize='xx-large')\n",
        "plt.show()"
      ],
      "metadata": {
        "colab": {
          "base_uri": "https://localhost:8080/",
          "height": 567
        },
        "id": "YAn-XYaSYXMO",
        "outputId": "960db720-94a9-4dbd-b2de-5751b759f137"
      },
      "execution_count": null,
      "outputs": [
        {
          "output_type": "display_data",
          "data": {
            "text/plain": [
              "<Figure size 864x576 with 1 Axes>"
            ],
            "image/png": "[encoded data removed]"
          },
          "metadata": {}
        }
      ]
    },
    {
      "cell_type": "markdown",
      "source": [
        "# 5.Random Forest"
      ],
      "metadata": {
        "id": "ch3wPHx2uhNz"
      }
    },
    {
      "cell_type": "markdown",
      "source": [
        "El segundo modelo implementado fue un RandomForest. Este tipo clasificador fue elegido por ser uno de los modelos de referencia en el ámbito de la predicción, tanto en regresión como en clasificación (problema que nos atañe).\n",
        "\n",
        "Se trata de un modelo formado por distintos árboles de decisión, cada uno entrenado con una muestra aleatoria ligeramente distinta de los datos de entrenamiento (bootstrap). La predicción de un modelo RF es el agregado de las predicciones sugeridas por cada uno de los árboles que lo conforman (aggregation).\n"
      ],
      "metadata": {
        "id": "gM48mDvIukyf"
      }
    },
    {
      "cell_type": "markdown",
      "source": [
        "## 5.1 Estimación de Hiperparámetros"
      ],
      "metadata": {
        "id": "2S7B6gLRoOfW"
      }
    },
    {
      "cell_type": "markdown",
      "source": [
        "La mayoría de hiperparámetros que el modelo utiliza no fueron discutidos con demasiada profundidad durante el curso con lo que salvo el número de árboles, se utilizaron los valores por defecto que la biblioteca ScikitLearn propone (extensamente probados por sus desarrolladores)."
      ],
      "metadata": {
        "id": "LJeDLkk4oWJi"
      }
    },
    {
      "cell_type": "markdown",
      "source": [
        "Número de árboles: Un nombre bastante auto-descriptivo. Cuanto mayor sea, mejor. Un exceso de árboles no provoca overfitting, pero a partir de un umbral crítico el rendimiento apenas mejora, mientras que el coste computacional sigue aumentando. Para determinar el valor óptimo de éste hiperparámetro, en lugar de recurrirse a la validación cruzada, como en el resto de modelos, se comprobó el valor del OOB-Error para un número creciente de árboles: de 1 a 200, de 5 en 5 (1, 6, 11, 16 …) y de 200 a 450, de 50 en 50 (200, 250, 300 …)."
      ],
      "metadata": {
        "id": "cZNzRBeKoYXr"
      }
    },
    {
      "cell_type": "markdown",
      "source": [
        "La utilización del OOB-Error como técnica de validación, es propia de modelos que utilizan “bagging” (“bootstrap agregation”). En el caso concreto de los clasificadores RF, cada uno de los árboles que componen el modelo ajusta/entrena con un subconjunto de observaciones aleatorio distinto, luego éste puede utilizarse (sin temor al “data snooping”) para estimar el la etiqueta del conjunto de observaciones que no ha utilizado (observaciones Out-Of-Bag); en otras palabras, un árbol puede utilizarse para validar lo aprendido sobre aquellas observaciones que no utiliza. De esta manera puede comprobarse la validez del ajuste y del valor de los hiperparámetros sin necesidad de recurrir a otras técnicas como la validación cruzada [11]. El OOB-Error que devuelve la implementación del modelo utilizado (RandomForestClassifier de ScikitLearn) coincide con la accuracy (número de predicciones correctas)."
      ],
      "metadata": {
        "id": "IDJgu9MNoaL4"
      }
    },
    {
      "cell_type": "markdown",
      "source": [
        "## 5.2 Resultados Experimentales"
      ],
      "metadata": {
        "id": "kMYCPGzEpFB-"
      }
    },
    {
      "cell_type": "markdown",
      "source": [
        "### 5.2.1 Número de Árboles"
      ],
      "metadata": {
        "id": "SwLc8XoepPhd"
      }
    },
    {
      "cell_type": "markdown",
      "source": [
        "Como ya se adelantó, puede observarse en la siguiente figura que cuanto mayor sea el número de árboles mejor es el rendimiento del modelo (estimado a través del OOB-error). Sin embargo, la mejora de accuracy empieza a frenar en torno a los 30 árboles, estancándose en un OOB-Error de 0.66 a partir de los 165 árboles, mientras que el tiempo de ejecución se dispara. Se escogió como valor óptimo del número de árboles, una cantidad (200 árboles) con OOB-Error cercano al mejor (accuracy = 0.6636) que conserva un tiempo de ejecución razonable (33.16 s)."
      ],
      "metadata": {
        "id": "lnlo5WH5pSgp"
      }
    },
    {
      "cell_type": "code",
      "source": [
        "# Estimación del número de árboles a través del método de validación OOB-Error\n",
        "from sklearn.ensemble import RandomForestClassifier\n",
        "import time\n",
        "\n",
        "time_scores = []\n",
        "oob_scores   = []\n",
        "\n",
        "# Valores posibles del nº de árboles\n",
        "rango_val_n_arb = np.concatenate((np.array([1]), np.arange(5, 200, 5)))\n",
        "rango_val_n_arb = np.concatenate((rango_val_n_arb, np.arange(200, 500, 50)))\n",
        "\n",
        "# Bucle para entrenar un modelo con cada valor de n_estimators y extraer su error\n",
        "# Out-of-Bag y su tiempo de entrenamiento.\n",
        "for i, n_arboles in enumerate(rango_val_n_arb):\n",
        "  # Modelo\n",
        "  modelo = RandomForestClassifier(\n",
        "      n_estimators=n_arboles,\n",
        "      criterion='gini',\n",
        "      max_depth=None,\n",
        "      min_samples_split=2,\n",
        "      min_samples_leaf=1,\n",
        "      min_weight_fraction_leaf=0.0,\n",
        "      max_features='sqrt',\n",
        "      max_leaf_nodes=None,\n",
        "      min_impurity_decrease=0.0,\n",
        "      bootstrap=True,\n",
        "      oob_score=True,\n",
        "      n_jobs=None,\n",
        "      random_state=1234,\n",
        "      verbose=0,\n",
        "      warm_start=False,\n",
        "      class_weight=None,\n",
        "      ccp_alpha=0.0,\n",
        "      max_samples=None\n",
        "  )\n",
        "  # Pipeline\n",
        "  pipe_rf = Pipeline([('preprocessing', preprocessor),('RF', modelo)])\n",
        "  #Entrenamiento\n",
        "  t0 = time.time()\n",
        "  _ = pipe_rf.fit(X_train, y_train)\n",
        "  t1 = time.time()\n",
        "  # Almacenamiento de resultados\n",
        "  oob_scores.append(modelo.oob_score_)\n",
        "  time_scores.append(t1-t0)\n",
        "  print(\"Comprobado el valor: {}\".format(rango_val_n_arb[i]))\n"
      ],
      "metadata": {
        "id": "S6-vklU2yYqi"
      },
      "execution_count": null,
      "outputs": []
    },
    {
      "cell_type": "code",
      "source": [
        "# Plotear evolución de OOB-error y del tiempo del ajuste con el número de árboles\n",
        "fig, axes = plt.subplots(1,2)\n",
        "fig.set_facecolor(\"w\")\n",
        "fig.set_figheight(fig.get_figheight()*2)\n",
        "fig.set_figwidth(fig.get_figwidth()*4)\n",
        "fig.suptitle('Figura X: OOB-Error (accuracy) y el tiempo de ejecución respecto al número de árboles del modelo.', fontsize = \"xx-large\", y=-0.02)\n",
        "\n",
        "# Evolución de OOB-error con el número de árboles\n",
        "axes[0].tick_params(labelsize = \"xx-large\")\n",
        "axes[0].set_xlabel(\"Número de Árboles\", labelpad=20.0, fontsize = \"xx-large\")\n",
        "axes[0].set_ylabel(\"OOB-Error (accuracy)\", labelpad=20.0, fontsize = \"xx-large\")\n",
        "axes[0].plot(rango_val_n_arb, oob_scores, c='r')\n",
        "\n",
        "# Evolución del tiempo de ajuste con el número de árboles\n",
        "axes[1].tick_params(labelsize = \"xx-large\")\n",
        "axes[1].set_xlabel(\"Número de Árboles\", labelpad=20.0, fontsize = \"xx-large\")\n",
        "axes[1].set_ylabel(\"Tiempo Ejecución [s]\", labelpad=20.0, fontsize = \"xx-large\")\n",
        "axes[1].plot(rango_val_n_arb, time_scores, c='b')\n",
        "\n",
        "plt.show()"
      ],
      "metadata": {
        "id": "NaYN1TCuDXie"
      },
      "execution_count": null,
      "outputs": []
    },
    {
      "cell_type": "markdown",
      "source": [
        "Tabla para comprobar la terna o correspondencia: (OOB-Error - Tiempo de Ejecución - Nº de Árboles)"
      ],
      "metadata": {
        "id": "rdqKc-a0vZt2"
      }
    },
    {
      "cell_type": "code",
      "source": [
        "# Tabla para consultar las ternas: (OOB-ERror, Tiempo, Nº Árboels)\n",
        "pd.DataFrame({'OOB-Error':oob_scores, 'Tiempo':time_scores, 'Nº Arboles':rango_val_n_arb}).head(5)"
      ],
      "metadata": {
        "id": "Wrv66bs5UzCq"
      },
      "execution_count": null,
      "outputs": []
    },
    {
      "cell_type": "markdown",
      "source": [
        "### 5.2.2 Prestaciones del Modelo"
      ],
      "metadata": {
        "id": "0QDACLYlpkGj"
      }
    },
    {
      "cell_type": "markdown",
      "source": [
        "Para poder comparar las prestaciones de este modelo respecto al resto, se sometió al mismo proceso de validación cruzada (5 particiones) sobre el conjunto de entrenamiento, con el valor óptimo encontrado para el número de árboles (= 200)."
      ],
      "metadata": {
        "id": "_nl5fWfQppf8"
      }
    },
    {
      "cell_type": "code",
      "source": [
        "# Modelo con el número de árboles óptimo\n",
        "modelo = RandomForestClassifier(\n",
        "      n_estimators=200,\n",
        "      criterion='gini',\n",
        "      max_depth=None,\n",
        "      min_samples_split=2,\n",
        "      min_samples_leaf=1,\n",
        "      min_weight_fraction_leaf=0.0,\n",
        "      max_features='sqrt',\n",
        "      max_leaf_nodes=None,\n",
        "      min_impurity_decrease=0.0,\n",
        "      bootstrap=True,\n",
        "      oob_score=True,\n",
        "      n_jobs=None,\n",
        "      random_state=1234,\n",
        "      verbose=0,\n",
        "      warm_start=False,\n",
        "      class_weight=None,\n",
        "      ccp_alpha=0.0,\n",
        "      max_samples=None\n",
        "  )\n",
        "\n",
        "# Pipeline\n",
        "pipe_rf = Pipeline([('preprocessing', preprocessor),('RF', modelo)])\n",
        "\n",
        "# Evaluación del modelo\n",
        "from sklearn.model_selection import cross_validate\n",
        "cv_scores = cross_validate(\n",
        "                estimator = pipe_rf,\n",
        "                X         = X_train,\n",
        "                y         = y_train,\n",
        "                scoring = ('precision','recall','f1','accuracy'),\n",
        "                cv        = StratifiedKFold(n_splits = 5, shuffle=True, random_state = 1234),\n",
        "                verbose = 2\n",
        ")"
      ],
      "metadata": {
        "colab": {
          "base_uri": "https://localhost:8080/"
        },
        "id": "syXYjBNLX4dz",
        "outputId": "0b4f72ce-cb95-4963-e51f-05e770def48e"
      },
      "execution_count": null,
      "outputs": [
        {
          "output_type": "stream",
          "name": "stderr",
          "text": [
            "[Parallel(n_jobs=1)]: Using backend SequentialBackend with 1 concurrent workers.\n"
          ]
        },
        {
          "output_type": "stream",
          "name": "stdout",
          "text": [
            "[CV] END .................................................... total time=  33.8s\n"
          ]
        },
        {
          "output_type": "stream",
          "name": "stderr",
          "text": [
            "[Parallel(n_jobs=1)]: Done   1 out of   1 | elapsed:   33.8s remaining:    0.0s\n"
          ]
        },
        {
          "output_type": "stream",
          "name": "stdout",
          "text": [
            "[CV] END .................................................... total time=  27.9s\n",
            "[CV] END .................................................... total time=  25.5s\n",
            "[CV] END .................................................... total time=  25.1s\n",
            "[CV] END .................................................... total time=  27.1s\n"
          ]
        },
        {
          "output_type": "stream",
          "name": "stderr",
          "text": [
            "[Parallel(n_jobs=1)]: Done   5 out of   5 | elapsed:  2.3min finished\n"
          ]
        }
      ]
    },
    {
      "cell_type": "code",
      "source": [
        "print('Prestaciones globales del modelo (validación cruzada sobre el conjunto de entrenamiento, 5 particiones).')\n",
        "print('Precision: {}'.format(np.round(cv_scores['test_precision'].mean(), 4)))\n",
        "print('Recall: {}'.format(np.round(cv_scores['test_recall'].mean(), 4)))\n",
        "print('F1: {}'.format(np.round(cv_scores['test_f1'].mean(), 4)))\n",
        "print('Accuracy: {}'.format(np.round(cv_scores['test_accuracy'].mean(), 4)))\n",
        "print('Tiempo: {}'.format(np.round(cv_scores['fit_time'].mean(), 4)))"
      ],
      "metadata": {
        "colab": {
          "base_uri": "https://localhost:8080/"
        },
        "id": "xzUb1SFFYESz",
        "outputId": "5cb1ad79-7934-4033-fa3d-10816658e5c1"
      },
      "execution_count": null,
      "outputs": [
        {
          "output_type": "stream",
          "name": "stdout",
          "text": [
            "Prestaciones globales del modelo (validación cruzada sobre el conjunto de entrenamiento, 5 particiones).\n",
            "Precision: 0.6746\n",
            "Recall: 0.727\n",
            "F1: 0.6998\n",
            "Accuracy: 0.6684\n",
            "Tiempo: 27.4763\n"
          ]
        }
      ]
    },
    {
      "cell_type": "markdown",
      "source": [
        "### 5.2.3 Curva de Aprendizaje"
      ],
      "metadata": {
        "id": "P1J8gBNWp2YF"
      }
    },
    {
      "cell_type": "markdown",
      "source": [
        "Nuevamente, a fin de comprobar que el modelo está aprendiendo, se generó la curva de aprendizaje para una de las particiones anteriores."
      ],
      "metadata": {
        "id": "pf3zF5czp508"
      }
    },
    {
      "cell_type": "code",
      "source": [
        "# Curva de apredizaje del proceso anterior (priemra de las particiones)\n",
        "from sklearn.metrics import accuracy_score\n",
        "\n",
        "# Genero particiones\n",
        "cv= StratifiedKFold(n_splits = 5, shuffle=True, random_state = 1234)\n",
        "\n",
        "primera = True\n",
        "c = X_train.columns\n",
        "\n",
        "train_scores = []\n",
        "val_scores = []\n",
        "\n",
        "for train_index, val_index in cv.split(X_train, y_train):\n",
        "  # Para la primera partición (redundante hacerlo para el resto)\n",
        "  if(primera):\n",
        "    train_sizes = np.arange(20, len(train_index), 100)\n",
        "    # Almacenamos el errro conforme aumenta el tamaño de los datos con los que se entrena\n",
        "    for size in train_sizes:\n",
        "      # Error de entrenamiento\n",
        "      X_train_split = pd.DataFrame(columns = c, data = X_train.to_numpy()[train_index])\n",
        "      y_train_split = y_train.to_numpy()[train_index]\n",
        "      X_train_split_size = pd.DataFrame(columns = c, data = X_train.to_numpy()[train_index[0:size]])\n",
        "      y_train_split_size = y_train.to_numpy()[train_index[0:size]]\n",
        "      pipe_rf.fit(X_train_split_size, y_train_split_size)\n",
        "      y_train_split_pred = pipe_rf.predict(X_train_split)\n",
        "      train_scores.append(accuracy_score(y_train_split, y_train_split_pred))\n",
        "      # Error de validación\n",
        "      X_val_split = pd.DataFrame(columns = c, data = X_train.to_numpy()[val_index])\n",
        "      y_val_split = y_train.to_numpy()[val_index]\n",
        "      y_val_split_pred = pipe_rf.predict(X_val_split)\n",
        "      val_scores.append(accuracy_score(y_val_split, y_val_split_pred))\n",
        "      print(\"{} de {}\".format(size, len(train_index)))\n",
        "    primera = False"
      ],
      "metadata": {
        "id": "Zp0xyDqGeEkZ"
      },
      "execution_count": null,
      "outputs": []
    },
    {
      "cell_type": "code",
      "source": [
        "#Plotear Curva de aprendizaje\n",
        "fig, axe = plt.subplots(1,1)\n",
        "fig.set_facecolor(\"w\")\n",
        "fig.set_figheight(fig.get_figheight()*2)\n",
        "fig.set_figwidth(fig.get_figwidth()*2)\n",
        "fig.suptitle('Figura X: Curva de aprendizaje del RF.', fontsize = \"xx-large\", y=-0.02)\n",
        "\n",
        "axe.tick_params(labelsize = \"xx-large\")\n",
        "axe.set_xlabel(\"Número de Muestras\", labelpad=20.0, fontsize = \"xx-large\")\n",
        "axe.set_ylabel(\"Calidad del Ajuste (accuracy)\", labelpad=20.0, fontsize = \"xx-large\")\n",
        "axe.plot(train_sizes, train_scores, label='Entrenamiento')\n",
        "axe.plot(train_sizes, val_scores, label='Validación')\n",
        "plt.legend(fontsize='xx-large')\n",
        "plt.show()"
      ],
      "metadata": {
        "colab": {
          "base_uri": "https://localhost:8080/",
          "height": 567
        },
        "id": "wnSkrNjXeGZ4",
        "outputId": "06fa85e6-e233-45a4-f16e-5c9467dc8d4b"
      },
      "execution_count": null,
      "outputs": [
        {
          "output_type": "display_data",
          "data": {
            "text/plain": [
              "<Figure size 864x576 with 1 Axes>"
            ],
            "image/png": "[encoded data removed]"
          },
          "metadata": {}
        }
      ]
    },
    {
      "cell_type": "markdown",
      "source": [
        "Como puede observarse, las prestaciones del modelo (accuracy) para el conjunto de entrenamiento y de validación crecen con la proporción de datos utilizados (del conjunto de entrenamiento) durante el entrenamiento. Efectivamente, el modelo está aprendiendo."
      ],
      "metadata": {
        "id": "aLvDfyO0sQrX"
      }
    },
    {
      "cell_type": "markdown",
      "source": [
        "# 6.Conclusiones"
      ],
      "metadata": {
        "id": "w0vgwJ1-qMZV"
      }
    },
    {
      "cell_type": "markdown",
      "source": [
        "Ambos algoritmos implementados, tanto el lineal como el no lineal ofrecen un mejor resultado (respecto a la variable de referencia, ‘accuracy’) que los “dummies”. Incluso el resto de métricas de error también presenta un mejor valor (a excepción del “recall” para el siempre positivo, como era de prever). Si bien no ofrecen unos resultados extraordinariamente buenos, son mejores que el de un clasificador aleatorio: 26.11% mejor accuracy en el caso de RF y 20.32% mejor accuracy en el caso de RL."
      ],
      "metadata": {
        "id": "tS8J32vHqQb6"
      }
    },
    {
      "cell_type": "markdown",
      "source": [
        "Modelo | Precision | Recall | F1 | Accuracy | Tiempo\n",
        "-|-|-|-|-|-|\n",
        "RF | 0.6746 | 0.7270 | 0.6998 | 0.6684 | 28.6103\n",
        "RL | 0.6378 | 0.7374 | 0.6839 | 0.6377 | 1.7554\n",
        "Aleatorio | 0.53 | 0.49 | 0.51 | 0.49  | -\n",
        "Siempre +1 | 0.53 | 1.00 | 0.69 | 0.53  | -\n",
        "Siempre -1 | 0.00 | 0.00 | 0.00 | 0.47  | -"
      ],
      "metadata": {
        "id": "5ERePCgcqak_"
      }
    },
    {
      "cell_type": "markdown",
      "source": [
        "El modelo predictivo con mejor valor para la métrica de referencia (accuracy) sería el que se ofrecería a la empresa Marshable: Random Forest. A fin de proporcionar una estimación de cómo se comportaría en un contexto real, se utilizó el conjunto de test."
      ],
      "metadata": {
        "id": "OHcgwUASqWcT"
      }
    },
    {
      "cell_type": "code",
      "source": [
        "# Mejor modelo encontrado\n",
        "mejor_modelo = RandomForestClassifier(\n",
        "      n_estimators=200,\n",
        "      criterion='gini',\n",
        "      max_depth=None,\n",
        "      min_samples_split=2,\n",
        "      min_samples_leaf=1,\n",
        "      min_weight_fraction_leaf=0.0,\n",
        "      max_features='sqrt',\n",
        "      max_leaf_nodes=None,\n",
        "      min_impurity_decrease=0.0,\n",
        "      bootstrap=True,\n",
        "      oob_score=True,\n",
        "      n_jobs=None,\n",
        "      random_state=1234,\n",
        "      verbose=0,\n",
        "      warm_start=False,\n",
        "      class_weight=None,\n",
        "      ccp_alpha=0.0,\n",
        "      max_samples=None\n",
        "  )\n",
        "\n",
        "# Pipeline\n",
        "pipe_mm = Pipeline([('preprocessing', preprocessor),('RF', mejor_modelo)])\n",
        "\n",
        "# Entrenamiento\n",
        "t0 = time.time()\n",
        "pipe_mm.fit(X_train, y_train)\n",
        "t1 = time.time()\n",
        "t_total = t1-t0\n",
        "# Test\n",
        "y_pred_test = pipe_mm.predict(X_test)"
      ],
      "metadata": {
        "id": "iePS3x0utPC7"
      },
      "execution_count": null,
      "outputs": []
    },
    {
      "cell_type": "code",
      "source": [
        "# Tabla de resultados\n",
        "umbral = 1400\n",
        "y_test[y_test < umbral] = -1 # Artículos impopulares\n",
        "y_test[y_test >= umbral ] = 1 # Artículos populares\n",
        "\n",
        "tabla = pd.DataFrame(columns = ['precision' , 'recall', 'f1', 'accuracy', 'tiempo'])\n",
        "p = precision_score(y_test, y_pred_test, zero_division=0)\n",
        "r = recall_score(y_test, y_pred_test, zero_division=0)\n",
        "f1 = f1_score(y_test, y_pred_test, zero_division=0)\n",
        "a = accuracy_score(y_test, y_pred_test)\n",
        "tabla=tabla.append({'precision':p , 'recall':r, 'f1':f1, 'accuracy':a, 'tiempo':t_total}, ignore_index=True)\n",
        "print('Prestaciones para el conjunto de test: ')\n",
        "tabla"
      ],
      "metadata": {
        "colab": {
          "base_uri": "https://localhost:8080/",
          "height": 98
        },
        "id": "rDBkI8IgwuPD",
        "outputId": "9fb189fa-044d-4fe6-aba5-6a5dee8b3760"
      },
      "execution_count": null,
      "outputs": [
        {
          "output_type": "stream",
          "name": "stdout",
          "text": [
            "Prestaciones para el conjunto de test: \n"
          ]
        },
        {
          "output_type": "execute_result",
          "data": {
            "text/plain": [
              "   precision    recall        f1  accuracy     tiempo\n",
              "0   0.686399  0.722473  0.703974  0.673148  48.450371"
            ],
            "text/html": [
              "\n",
              "  <div id=\"df-7868d46f-487f-45dc-87ab-04f3e5268894\">\n",
              "    <div class=\"colab-df-container\">\n",
              "      <div>\n",
              "<style scoped>\n",
              "    .dataframe tbody tr th:only-of-type {\n",
              "        vertical-align: middle;\n",
              "    }\n",
              "\n",
              "    .dataframe tbody tr th {\n",
              "        vertical-align: top;\n",
              "    }\n",
              "\n",
              "    .dataframe thead th {\n",
              "        text-align: right;\n",
              "    }\n",
              "</style>\n",
              "<table border=\"1\" class=\"dataframe\">\n",
              "  <thead>\n",
              "    <tr style=\"text-align: right;\">\n",
              "      <th></th>\n",
              "      <th>precision</th>\n",
              "      <th>recall</th>\n",
              "      <th>f1</th>\n",
              "      <th>accuracy</th>\n",
              "      <th>tiempo</th>\n",
              "    </tr>\n",
              "  </thead>\n",
              "  <tbody>\n",
              "    <tr>\n",
              "      <th>0</th>\n",
              "      <td>0.686399</td>\n",
              "      <td>0.722473</td>\n",
              "      <td>0.703974</td>\n",
              "      <td>0.673148</td>\n",
              "      <td>48.450371</td>\n",
              "    </tr>\n",
              "  </tbody>\n",
              "</table>\n",
              "</div>\n",
              "      <button class=\"colab-df-convert\" onclick=\"convertToInteractive('df-7868d46f-487f-45dc-87ab-04f3e5268894')\"\n",
              "              title=\"Convert this dataframe to an interactive table.\"\n",
              "              style=\"display:none;\">\n",
              "        \n",
              "  <svg xmlns=\"http://www.w3.org/2000/svg\" height=\"24px\"viewBox=\"0 0 24 24\"\n",
              "       width=\"24px\">\n",
              "    <path d=\"M0 0h24v24H0V0z\" fill=\"none\"/>\n",
              "    <path d=\"M18.56 5.44l.94 2.06.94-2.06 2.06-.94-2.06-.94-.94-2.06-.94 2.06-2.06.94zm-11 1L8.5 8.5l.94-2.06 2.06-.94-2.06-.94L8.5 2.5l-.94 2.06-2.06.94zm10 10l.94 2.06.94-2.06 2.06-.94-2.06-.94-.94-2.06-.94 2.06-2.06.94z\"/><path d=\"M17.41 7.96l-1.37-1.37c-.4-.4-.92-.59-1.43-.59-.52 0-1.04.2-1.43.59L10.3 9.45l-7.72 7.72c-.78.78-.78 2.05 0 2.83L4 21.41c.39.39.9.59 1.41.59.51 0 1.02-.2 1.41-.59l7.78-7.78 2.81-2.81c.8-.78.8-2.07 0-2.86zM5.41 20L4 18.59l7.72-7.72 1.47 1.35L5.41 20z\"/>\n",
              "  </svg>\n",
              "      </button>\n",
              "      \n",
              "  <style>\n",
              "    .colab-df-container {\n",
              "      display:flex;\n",
              "      flex-wrap:wrap;\n",
              "      gap: 12px;\n",
              "    }\n",
              "\n",
              "    .colab-df-convert {\n",
              "      background-color: #E8F0FE;\n",
              "      border: none;\n",
              "      border-radius: 50%;\n",
              "      cursor: pointer;\n",
              "      display: none;\n",
              "      fill: #1967D2;\n",
              "      height: 32px;\n",
              "      padding: 0 0 0 0;\n",
              "      width: 32px;\n",
              "    }\n",
              "\n",
              "    .colab-df-convert:hover {\n",
              "      background-color: #E2EBFA;\n",
              "      box-shadow: 0px 1px 2px rgba(60, 64, 67, 0.3), 0px 1px 3px 1px rgba(60, 64, 67, 0.15);\n",
              "      fill: #174EA6;\n",
              "    }\n",
              "\n",
              "    [theme=dark] .colab-df-convert {\n",
              "      background-color: #3B4455;\n",
              "      fill: #D2E3FC;\n",
              "    }\n",
              "\n",
              "    [theme=dark] .colab-df-convert:hover {\n",
              "      background-color: #434B5C;\n",
              "      box-shadow: 0px 1px 3px 1px rgba(0, 0, 0, 0.15);\n",
              "      filter: drop-shadow(0px 1px 2px rgba(0, 0, 0, 0.3));\n",
              "      fill: #FFFFFF;\n",
              "    }\n",
              "  </style>\n",
              "\n",
              "      <script>\n",
              "        const buttonEl =\n",
              "          document.querySelector('#df-7868d46f-487f-45dc-87ab-04f3e5268894 button.colab-df-convert');\n",
              "        buttonEl.style.display =\n",
              "          google.colab.kernel.accessAllowed ? 'block' : 'none';\n",
              "\n",
              "        async function convertToInteractive(key) {\n",
              "          const element = document.querySelector('#df-7868d46f-487f-45dc-87ab-04f3e5268894');\n",
              "          const dataTable =\n",
              "            await google.colab.kernel.invokeFunction('convertToInteractive',\n",
              "                                                     [key], {});\n",
              "          if (!dataTable) return;\n",
              "\n",
              "          const docLinkHtml = 'Like what you see? Visit the ' +\n",
              "            '<a target=\"_blank\" href=https://colab.research.google.com/notebooks/data_table.ipynb>data table notebook</a>'\n",
              "            + ' to learn more about interactive tables.';\n",
              "          element.innerHTML = '';\n",
              "          dataTable['output_type'] = 'display_data';\n",
              "          await google.colab.output.renderOutput(dataTable, element);\n",
              "          const docLink = document.createElement('div');\n",
              "          docLink.innerHTML = docLinkHtml;\n",
              "          element.appendChild(docLink);\n",
              "        }\n",
              "      </script>\n",
              "    </div>\n",
              "  </div>\n",
              "  "
            ]
          },
          "metadata": {},
          "execution_count": 173
        }
      ]
    },
    {
      "cell_type": "markdown",
      "source": [
        "# 7.Referencias"
      ],
      "metadata": {
        "id": "4O_7taE59DGH"
      }
    },
    {
      "cell_type": "markdown",
      "source": [
        "[1] K. Fernandes, P. Vinagre and P. Cortez. A Proactive Intelligent Decision Support System for Predicting the Popularity of Online News. Proceedings of the 17th EPIA 2015 - Portuguese Conference on Artificial Intelligence,September, Coimbra, Portugal.\n",
        "\n",
        "[2] https://mashable.com\n",
        "\n",
        "[3] David M Blei, Andrew Y Ng, and Michael I Jordan. Latent dirichlet allocation. Journal of Machine Learning Research, 3:993–1022, 2003.\n",
        "\n",
        "[4] Tom De Smedt, Lucas Nijs, and Walter Daelemans. Creative web services with pattern. In Proceedings of the Fifth International Conference on Computational Creativity, 2014.\n",
        "\n",
        "[5] http://archive.ics.uci.edu/ml/datasets/Online+News+Popularity\n",
        "\n",
        "[6] https://scikit-learn.org/\n",
        "\n",
        "[7] https://scikit-learn.org/stable/auto_examples/preprocessing/plot_all_scaling.html\n",
        "\n",
        "[8] Tom Fawcett. An introduction to roc analysis. Pattern recognition letters, 27(8):861–874, 2006.\n",
        "\n",
        "[9] https://developers.google.com/machine-learning/crash-course/classification/roc-and-auc\n",
        "\n",
        "[10] https://scikit-learn.org/stable/modules/generated/sklearn.linear_model.SGDClassifier.html?highlight=sgdclassi#sklearn.linear_model.SGDClassifier\n",
        "\n",
        "[11] https://towardsdatascience.com/what-is-out-of-bag-oob-score-in-random-forest-a7fa23d710"
      ],
      "metadata": {
        "id": "p9-25NEN9H3t"
      }
    }
  ]
}